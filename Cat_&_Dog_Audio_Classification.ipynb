{
  "nbformat": 4,
  "nbformat_minor": 0,
  "metadata": {
    "kernelspec": {
      "display_name": "Python 3",
      "language": "python",
      "name": "python3"
    },
    "language_info": {
      "codemirror_mode": {
        "name": "ipython",
        "version": 3
      },
      "file_extension": ".py",
      "mimetype": "text/x-python",
      "name": "python",
      "nbconvert_exporter": "python",
      "pygments_lexer": "ipython3",
      "version": "3.7.9"
    },
    "colab": {
      "name": "Cat & Dog Audio Classification.ipynb",
      "provenance": [],
      "collapsed_sections": [],
      "toc_visible": true,
      "include_colab_link": true
    },
    "accelerator": "GPU",
    "widgets": {
      "application/vnd.jupyter.widget-state+json": {
        "51b099c7f35c4913a4e087c150a3d30e": {
          "model_module": "@jupyter-widgets/controls",
          "model_name": "HBoxModel",
          "state": {
            "_view_name": "HBoxView",
            "_dom_classes": [],
            "_model_name": "HBoxModel",
            "_view_module": "@jupyter-widgets/controls",
            "_model_module_version": "1.5.0",
            "_view_count": null,
            "_view_module_version": "1.5.0",
            "box_style": "",
            "layout": "IPY_MODEL_7278f2b6cad341478fe28d2e3194e1d3",
            "_model_module": "@jupyter-widgets/controls",
            "children": [
              "IPY_MODEL_7f420b06562847e0a2ca71d643251d3e",
              "IPY_MODEL_95f2c283a1df486389439b735e62b472"
            ]
          }
        },
        "7278f2b6cad341478fe28d2e3194e1d3": {
          "model_module": "@jupyter-widgets/base",
          "model_name": "LayoutModel",
          "state": {
            "_view_name": "LayoutView",
            "grid_template_rows": null,
            "right": null,
            "justify_content": null,
            "_view_module": "@jupyter-widgets/base",
            "overflow": null,
            "_model_module_version": "1.2.0",
            "_view_count": null,
            "flex_flow": null,
            "width": null,
            "min_width": null,
            "border": null,
            "align_items": null,
            "bottom": null,
            "_model_module": "@jupyter-widgets/base",
            "top": null,
            "grid_column": null,
            "overflow_y": null,
            "overflow_x": null,
            "grid_auto_flow": null,
            "grid_area": null,
            "grid_template_columns": null,
            "flex": null,
            "_model_name": "LayoutModel",
            "justify_items": null,
            "grid_row": null,
            "max_height": null,
            "align_content": null,
            "visibility": null,
            "align_self": null,
            "height": null,
            "min_height": null,
            "padding": null,
            "grid_auto_rows": null,
            "grid_gap": null,
            "max_width": null,
            "order": null,
            "_view_module_version": "1.2.0",
            "grid_template_areas": null,
            "object_position": null,
            "object_fit": null,
            "grid_auto_columns": null,
            "margin": null,
            "display": null,
            "left": null
          }
        },
        "7f420b06562847e0a2ca71d643251d3e": {
          "model_module": "@jupyter-widgets/controls",
          "model_name": "FloatProgressModel",
          "state": {
            "_view_name": "ProgressView",
            "style": "IPY_MODEL_fdbdd80b139d46cf88e37e8a7a8bc87d",
            "_dom_classes": [],
            "description": "100%",
            "_model_name": "FloatProgressModel",
            "bar_style": "success",
            "max": 46827520,
            "_view_module": "@jupyter-widgets/controls",
            "_model_module_version": "1.5.0",
            "value": 46827520,
            "_view_count": null,
            "_view_module_version": "1.5.0",
            "orientation": "horizontal",
            "min": 0,
            "description_tooltip": null,
            "_model_module": "@jupyter-widgets/controls",
            "layout": "IPY_MODEL_8018833900534779b2e071dce06cfb7b"
          }
        },
        "95f2c283a1df486389439b735e62b472": {
          "model_module": "@jupyter-widgets/controls",
          "model_name": "HTMLModel",
          "state": {
            "_view_name": "HTMLView",
            "style": "IPY_MODEL_27ba94626340479da942a4886942932e",
            "_dom_classes": [],
            "description": "",
            "_model_name": "HTMLModel",
            "placeholder": "​",
            "_view_module": "@jupyter-widgets/controls",
            "_model_module_version": "1.5.0",
            "value": " 44.7M/44.7M [00:00&lt;00:00, 193MB/s]",
            "_view_count": null,
            "_view_module_version": "1.5.0",
            "description_tooltip": null,
            "_model_module": "@jupyter-widgets/controls",
            "layout": "IPY_MODEL_7ca3ae2dd08f42818173db4694ba471d"
          }
        },
        "fdbdd80b139d46cf88e37e8a7a8bc87d": {
          "model_module": "@jupyter-widgets/controls",
          "model_name": "ProgressStyleModel",
          "state": {
            "_view_name": "StyleView",
            "_model_name": "ProgressStyleModel",
            "description_width": "initial",
            "_view_module": "@jupyter-widgets/base",
            "_model_module_version": "1.5.0",
            "_view_count": null,
            "_view_module_version": "1.2.0",
            "bar_color": null,
            "_model_module": "@jupyter-widgets/controls"
          }
        },
        "8018833900534779b2e071dce06cfb7b": {
          "model_module": "@jupyter-widgets/base",
          "model_name": "LayoutModel",
          "state": {
            "_view_name": "LayoutView",
            "grid_template_rows": null,
            "right": null,
            "justify_content": null,
            "_view_module": "@jupyter-widgets/base",
            "overflow": null,
            "_model_module_version": "1.2.0",
            "_view_count": null,
            "flex_flow": null,
            "width": null,
            "min_width": null,
            "border": null,
            "align_items": null,
            "bottom": null,
            "_model_module": "@jupyter-widgets/base",
            "top": null,
            "grid_column": null,
            "overflow_y": null,
            "overflow_x": null,
            "grid_auto_flow": null,
            "grid_area": null,
            "grid_template_columns": null,
            "flex": null,
            "_model_name": "LayoutModel",
            "justify_items": null,
            "grid_row": null,
            "max_height": null,
            "align_content": null,
            "visibility": null,
            "align_self": null,
            "height": null,
            "min_height": null,
            "padding": null,
            "grid_auto_rows": null,
            "grid_gap": null,
            "max_width": null,
            "order": null,
            "_view_module_version": "1.2.0",
            "grid_template_areas": null,
            "object_position": null,
            "object_fit": null,
            "grid_auto_columns": null,
            "margin": null,
            "display": null,
            "left": null
          }
        },
        "27ba94626340479da942a4886942932e": {
          "model_module": "@jupyter-widgets/controls",
          "model_name": "DescriptionStyleModel",
          "state": {
            "_view_name": "StyleView",
            "_model_name": "DescriptionStyleModel",
            "description_width": "",
            "_view_module": "@jupyter-widgets/base",
            "_model_module_version": "1.5.0",
            "_view_count": null,
            "_view_module_version": "1.2.0",
            "_model_module": "@jupyter-widgets/controls"
          }
        },
        "7ca3ae2dd08f42818173db4694ba471d": {
          "model_module": "@jupyter-widgets/base",
          "model_name": "LayoutModel",
          "state": {
            "_view_name": "LayoutView",
            "grid_template_rows": null,
            "right": null,
            "justify_content": null,
            "_view_module": "@jupyter-widgets/base",
            "overflow": null,
            "_model_module_version": "1.2.0",
            "_view_count": null,
            "flex_flow": null,
            "width": null,
            "min_width": null,
            "border": null,
            "align_items": null,
            "bottom": null,
            "_model_module": "@jupyter-widgets/base",
            "top": null,
            "grid_column": null,
            "overflow_y": null,
            "overflow_x": null,
            "grid_auto_flow": null,
            "grid_area": null,
            "grid_template_columns": null,
            "flex": null,
            "_model_name": "LayoutModel",
            "justify_items": null,
            "grid_row": null,
            "max_height": null,
            "align_content": null,
            "visibility": null,
            "align_self": null,
            "height": null,
            "min_height": null,
            "padding": null,
            "grid_auto_rows": null,
            "grid_gap": null,
            "max_width": null,
            "order": null,
            "_view_module_version": "1.2.0",
            "grid_template_areas": null,
            "object_position": null,
            "object_fit": null,
            "grid_auto_columns": null,
            "margin": null,
            "display": null,
            "left": null
          }
        }
      }
    }
  },
  "cells": [
    {
      "cell_type": "markdown",
      "metadata": {
        "id": "view-in-github",
        "colab_type": "text"
      },
      "source": [
        "<a href=\"https://colab.research.google.com/github/kmcshane811/AutoML/blob/main/Cat_%26_Dog_Audio_Classification.ipynb\" target=\"_parent\"><img src=\"https://colab.research.google.com/assets/colab-badge.svg\" alt=\"Open In Colab\"/></a>"
      ]
    },
    {
      "cell_type": "markdown",
      "metadata": {
        "id": "J2unUmkdWwNy"
      },
      "source": [
        "This page is generated from the corresponding jupyter notebook, that can be found on [this folder](https://github.com/fastaudio/fastaudio/tree/master/docs)"
      ]
    },
    {
      "cell_type": "markdown",
      "metadata": {
        "id": "U_6e8owxWwNy"
      },
      "source": [
        "To install the library, uncomment and run this cell:"
      ]
    },
    {
      "cell_type": "code",
      "metadata": {
        "id": "DZ9HNcjYWwNz",
        "colab": {
          "base_uri": "https://localhost:8080/"
        },
        "outputId": "23539ba9-ef24-43e4-c20d-59590e2facc9"
      },
      "source": [
        "!pip install git+https://github.com/fastaudio/fastaudio.git\r\n",
        "!pip install git+https://github.com/fastai/fastai/tree/v2.0-branch\r\n",
        "!pip install -Uqq fastbook\r\n",
        "\r\n",
        "import fastbook\r\n",
        "fastbook.setup_book()\r\n",
        "from fastbook import *"
      ],
      "execution_count": null,
      "outputs": [
        {
          "output_type": "stream",
          "text": [
            "Collecting git+https://github.com/fastaudio/fastaudio.git\n",
            "  Cloning https://github.com/fastaudio/fastaudio.git to /tmp/pip-req-build-xvqz8kh6\n",
            "  Running command git clone -q https://github.com/fastaudio/fastaudio.git /tmp/pip-req-build-xvqz8kh6\n",
            "Requirement already satisfied (use --upgrade to upgrade): fastaudio==0.1.4.post0.dev2+g8631a3f from git+https://github.com/fastaudio/fastaudio.git in /usr/local/lib/python3.6/dist-packages\n",
            "Requirement already satisfied: fastai==2.1.9 in /usr/local/lib/python3.6/dist-packages (from fastaudio==0.1.4.post0.dev2+g8631a3f) (2.1.9)\n",
            "Requirement already satisfied: torchaudio>=0.6 in /usr/local/lib/python3.6/dist-packages (from fastaudio==0.1.4.post0.dev2+g8631a3f) (0.7.2)\n",
            "Requirement already satisfied: librosa==0.8 in /usr/local/lib/python3.6/dist-packages (from fastaudio==0.1.4.post0.dev2+g8631a3f) (0.8.0)\n",
            "Requirement already satisfied: colorednoise>=1.1 in /usr/local/lib/python3.6/dist-packages (from fastaudio==0.1.4.post0.dev2+g8631a3f) (1.1.1)\n",
            "Requirement already satisfied: IPython>=7.13 in /usr/local/lib/python3.6/dist-packages (from fastaudio==0.1.4.post0.dev2+g8631a3f) (7.16.1)\n",
            "Requirement already satisfied: fastcore==1.3.12 in /usr/local/lib/python3.6/dist-packages (from fastaudio==0.1.4.post0.dev2+g8631a3f) (1.3.12)\n",
            "Requirement already satisfied: packaging in /usr/local/lib/python3.6/dist-packages (from fastai==2.1.9->fastaudio==0.1.4.post0.dev2+g8631a3f) (20.9)\n",
            "Requirement already satisfied: matplotlib in /usr/local/lib/python3.6/dist-packages (from fastai==2.1.9->fastaudio==0.1.4.post0.dev2+g8631a3f) (3.2.2)\n",
            "Requirement already satisfied: pandas in /usr/local/lib/python3.6/dist-packages (from fastai==2.1.9->fastaudio==0.1.4.post0.dev2+g8631a3f) (1.1.5)\n",
            "Requirement already satisfied: pyyaml in /usr/local/lib/python3.6/dist-packages (from fastai==2.1.9->fastaudio==0.1.4.post0.dev2+g8631a3f) (3.13)\n",
            "Requirement already satisfied: scikit-learn in /usr/local/lib/python3.6/dist-packages (from fastai==2.1.9->fastaudio==0.1.4.post0.dev2+g8631a3f) (0.22.2.post1)\n",
            "Requirement already satisfied: scipy in /usr/local/lib/python3.6/dist-packages (from fastai==2.1.9->fastaudio==0.1.4.post0.dev2+g8631a3f) (1.4.1)\n",
            "Requirement already satisfied: torchvision>=0.8 in /usr/local/lib/python3.6/dist-packages (from fastai==2.1.9->fastaudio==0.1.4.post0.dev2+g8631a3f) (0.8.1+cu101)\n",
            "Requirement already satisfied: requests in /usr/local/lib/python3.6/dist-packages (from fastai==2.1.9->fastaudio==0.1.4.post0.dev2+g8631a3f) (2.23.0)\n",
            "Requirement already satisfied: pillow>6.0.0 in /usr/local/lib/python3.6/dist-packages (from fastai==2.1.9->fastaudio==0.1.4.post0.dev2+g8631a3f) (7.0.0)\n",
            "Requirement already satisfied: spacy in /usr/local/lib/python3.6/dist-packages (from fastai==2.1.9->fastaudio==0.1.4.post0.dev2+g8631a3f) (2.2.4)\n",
            "Requirement already satisfied: torch>=1.7.0 in /usr/local/lib/python3.6/dist-packages (from fastai==2.1.9->fastaudio==0.1.4.post0.dev2+g8631a3f) (1.7.0+cu101)\n",
            "Requirement already satisfied: pip in /usr/local/lib/python3.6/dist-packages (from fastai==2.1.9->fastaudio==0.1.4.post0.dev2+g8631a3f) (19.3.1)\n",
            "Requirement already satisfied: fastprogress>=0.2.4 in /usr/local/lib/python3.6/dist-packages (from fastai==2.1.9->fastaudio==0.1.4.post0.dev2+g8631a3f) (1.0.0)\n",
            "Requirement already satisfied: pooch>=1.0 in /usr/local/lib/python3.6/dist-packages (from librosa==0.8->fastaudio==0.1.4.post0.dev2+g8631a3f) (1.3.0)\n",
            "Requirement already satisfied: numpy>=1.15.0 in /usr/local/lib/python3.6/dist-packages (from librosa==0.8->fastaudio==0.1.4.post0.dev2+g8631a3f) (1.19.5)\n",
            "Requirement already satisfied: resampy>=0.2.2 in /usr/local/lib/python3.6/dist-packages (from librosa==0.8->fastaudio==0.1.4.post0.dev2+g8631a3f) (0.2.2)\n",
            "Requirement already satisfied: joblib>=0.14 in /usr/local/lib/python3.6/dist-packages (from librosa==0.8->fastaudio==0.1.4.post0.dev2+g8631a3f) (1.0.0)\n",
            "Requirement already satisfied: decorator>=3.0.0 in /usr/local/lib/python3.6/dist-packages (from librosa==0.8->fastaudio==0.1.4.post0.dev2+g8631a3f) (4.4.2)\n",
            "Requirement already satisfied: audioread>=2.0.0 in /usr/local/lib/python3.6/dist-packages (from librosa==0.8->fastaudio==0.1.4.post0.dev2+g8631a3f) (2.1.9)\n",
            "Requirement already satisfied: numba>=0.43.0 in /usr/local/lib/python3.6/dist-packages (from librosa==0.8->fastaudio==0.1.4.post0.dev2+g8631a3f) (0.51.2)\n",
            "Requirement already satisfied: soundfile>=0.9.0 in /usr/local/lib/python3.6/dist-packages (from librosa==0.8->fastaudio==0.1.4.post0.dev2+g8631a3f) (0.10.3.post1)\n",
            "Requirement already satisfied: jedi>=0.10 in /usr/local/lib/python3.6/dist-packages (from IPython>=7.13->fastaudio==0.1.4.post0.dev2+g8631a3f) (0.18.0)\n",
            "Requirement already satisfied: pexpect; sys_platform != \"win32\" in /usr/local/lib/python3.6/dist-packages (from IPython>=7.13->fastaudio==0.1.4.post0.dev2+g8631a3f) (4.8.0)\n",
            "Requirement already satisfied: prompt-toolkit!=3.0.0,!=3.0.1,<3.1.0,>=2.0.0 in /usr/local/lib/python3.6/dist-packages (from IPython>=7.13->fastaudio==0.1.4.post0.dev2+g8631a3f) (3.0.16)\n",
            "Requirement already satisfied: backcall in /usr/local/lib/python3.6/dist-packages (from IPython>=7.13->fastaudio==0.1.4.post0.dev2+g8631a3f) (0.2.0)\n",
            "Requirement already satisfied: pygments in /usr/local/lib/python3.6/dist-packages (from IPython>=7.13->fastaudio==0.1.4.post0.dev2+g8631a3f) (2.6.1)\n",
            "Requirement already satisfied: pickleshare in /usr/local/lib/python3.6/dist-packages (from IPython>=7.13->fastaudio==0.1.4.post0.dev2+g8631a3f) (0.7.5)\n",
            "Requirement already satisfied: setuptools>=18.5 in /usr/local/lib/python3.6/dist-packages (from IPython>=7.13->fastaudio==0.1.4.post0.dev2+g8631a3f) (53.0.0)\n",
            "Requirement already satisfied: traitlets>=4.2 in /usr/local/lib/python3.6/dist-packages (from IPython>=7.13->fastaudio==0.1.4.post0.dev2+g8631a3f) (4.3.3)\n",
            "Requirement already satisfied: pyparsing>=2.0.2 in /usr/local/lib/python3.6/dist-packages (from packaging->fastai==2.1.9->fastaudio==0.1.4.post0.dev2+g8631a3f) (2.4.7)\n",
            "Requirement already satisfied: cycler>=0.10 in /usr/local/lib/python3.6/dist-packages (from matplotlib->fastai==2.1.9->fastaudio==0.1.4.post0.dev2+g8631a3f) (0.10.0)\n",
            "Requirement already satisfied: kiwisolver>=1.0.1 in /usr/local/lib/python3.6/dist-packages (from matplotlib->fastai==2.1.9->fastaudio==0.1.4.post0.dev2+g8631a3f) (1.3.1)\n",
            "Requirement already satisfied: python-dateutil>=2.1 in /usr/local/lib/python3.6/dist-packages (from matplotlib->fastai==2.1.9->fastaudio==0.1.4.post0.dev2+g8631a3f) (2.8.1)\n",
            "Requirement already satisfied: pytz>=2017.2 in /usr/local/lib/python3.6/dist-packages (from pandas->fastai==2.1.9->fastaudio==0.1.4.post0.dev2+g8631a3f) (2018.9)\n",
            "Requirement already satisfied: idna<3,>=2.5 in /usr/local/lib/python3.6/dist-packages (from requests->fastai==2.1.9->fastaudio==0.1.4.post0.dev2+g8631a3f) (2.10)\n",
            "Requirement already satisfied: chardet<4,>=3.0.2 in /usr/local/lib/python3.6/dist-packages (from requests->fastai==2.1.9->fastaudio==0.1.4.post0.dev2+g8631a3f) (3.0.4)\n",
            "Requirement already satisfied: urllib3!=1.25.0,!=1.25.1,<1.26,>=1.21.1 in /usr/local/lib/python3.6/dist-packages (from requests->fastai==2.1.9->fastaudio==0.1.4.post0.dev2+g8631a3f) (1.24.3)\n",
            "Requirement already satisfied: certifi>=2017.4.17 in /usr/local/lib/python3.6/dist-packages (from requests->fastai==2.1.9->fastaudio==0.1.4.post0.dev2+g8631a3f) (2020.12.5)\n",
            "Requirement already satisfied: blis<0.5.0,>=0.4.0 in /usr/local/lib/python3.6/dist-packages (from spacy->fastai==2.1.9->fastaudio==0.1.4.post0.dev2+g8631a3f) (0.4.1)\n",
            "Requirement already satisfied: murmurhash<1.1.0,>=0.28.0 in /usr/local/lib/python3.6/dist-packages (from spacy->fastai==2.1.9->fastaudio==0.1.4.post0.dev2+g8631a3f) (1.0.5)\n",
            "Requirement already satisfied: plac<1.2.0,>=0.9.6 in /usr/local/lib/python3.6/dist-packages (from spacy->fastai==2.1.9->fastaudio==0.1.4.post0.dev2+g8631a3f) (1.1.3)\n",
            "Requirement already satisfied: thinc==7.4.0 in /usr/local/lib/python3.6/dist-packages (from spacy->fastai==2.1.9->fastaudio==0.1.4.post0.dev2+g8631a3f) (7.4.0)\n",
            "Requirement already satisfied: wasabi<1.1.0,>=0.4.0 in /usr/local/lib/python3.6/dist-packages (from spacy->fastai==2.1.9->fastaudio==0.1.4.post0.dev2+g8631a3f) (0.8.2)\n",
            "Requirement already satisfied: srsly<1.1.0,>=1.0.2 in /usr/local/lib/python3.6/dist-packages (from spacy->fastai==2.1.9->fastaudio==0.1.4.post0.dev2+g8631a3f) (1.0.5)\n",
            "Requirement already satisfied: preshed<3.1.0,>=3.0.2 in /usr/local/lib/python3.6/dist-packages (from spacy->fastai==2.1.9->fastaudio==0.1.4.post0.dev2+g8631a3f) (3.0.5)\n",
            "Requirement already satisfied: catalogue<1.1.0,>=0.0.7 in /usr/local/lib/python3.6/dist-packages (from spacy->fastai==2.1.9->fastaudio==0.1.4.post0.dev2+g8631a3f) (1.0.0)\n",
            "Requirement already satisfied: cymem<2.1.0,>=2.0.2 in /usr/local/lib/python3.6/dist-packages (from spacy->fastai==2.1.9->fastaudio==0.1.4.post0.dev2+g8631a3f) (2.0.5)\n",
            "Requirement already satisfied: tqdm<5.0.0,>=4.38.0 in /usr/local/lib/python3.6/dist-packages (from spacy->fastai==2.1.9->fastaudio==0.1.4.post0.dev2+g8631a3f) (4.41.1)\n",
            "Requirement already satisfied: typing-extensions in /usr/local/lib/python3.6/dist-packages (from torch>=1.7.0->fastai==2.1.9->fastaudio==0.1.4.post0.dev2+g8631a3f) (3.7.4.3)\n",
            "Requirement already satisfied: dataclasses in /usr/local/lib/python3.6/dist-packages (from torch>=1.7.0->fastai==2.1.9->fastaudio==0.1.4.post0.dev2+g8631a3f) (0.8)\n",
            "Requirement already satisfied: future in /usr/local/lib/python3.6/dist-packages (from torch>=1.7.0->fastai==2.1.9->fastaudio==0.1.4.post0.dev2+g8631a3f) (0.16.0)\n",
            "Requirement already satisfied: appdirs in /usr/local/lib/python3.6/dist-packages (from pooch>=1.0->librosa==0.8->fastaudio==0.1.4.post0.dev2+g8631a3f) (1.4.4)\n",
            "Requirement already satisfied: six>=1.3 in /usr/local/lib/python3.6/dist-packages (from resampy>=0.2.2->librosa==0.8->fastaudio==0.1.4.post0.dev2+g8631a3f) (1.15.0)\n",
            "Requirement already satisfied: llvmlite<0.35,>=0.34.0.dev0 in /usr/local/lib/python3.6/dist-packages (from numba>=0.43.0->librosa==0.8->fastaudio==0.1.4.post0.dev2+g8631a3f) (0.34.0)\n",
            "Requirement already satisfied: cffi>=1.0 in /usr/local/lib/python3.6/dist-packages (from soundfile>=0.9.0->librosa==0.8->fastaudio==0.1.4.post0.dev2+g8631a3f) (1.14.4)\n",
            "Requirement already satisfied: parso<0.9.0,>=0.8.0 in /usr/local/lib/python3.6/dist-packages (from jedi>=0.10->IPython>=7.13->fastaudio==0.1.4.post0.dev2+g8631a3f) (0.8.1)\n",
            "Requirement already satisfied: ptyprocess>=0.5 in /usr/local/lib/python3.6/dist-packages (from pexpect; sys_platform != \"win32\"->IPython>=7.13->fastaudio==0.1.4.post0.dev2+g8631a3f) (0.7.0)\n",
            "Requirement already satisfied: wcwidth in /usr/local/lib/python3.6/dist-packages (from prompt-toolkit!=3.0.0,!=3.0.1,<3.1.0,>=2.0.0->IPython>=7.13->fastaudio==0.1.4.post0.dev2+g8631a3f) (0.2.5)\n",
            "Requirement already satisfied: ipython-genutils in /usr/local/lib/python3.6/dist-packages (from traitlets>=4.2->IPython>=7.13->fastaudio==0.1.4.post0.dev2+g8631a3f) (0.2.0)\n",
            "Requirement already satisfied: importlib-metadata>=0.20; python_version < \"3.8\" in /usr/local/lib/python3.6/dist-packages (from catalogue<1.1.0,>=0.0.7->spacy->fastai==2.1.9->fastaudio==0.1.4.post0.dev2+g8631a3f) (3.4.0)\n",
            "Requirement already satisfied: pycparser in /usr/local/lib/python3.6/dist-packages (from cffi>=1.0->soundfile>=0.9.0->librosa==0.8->fastaudio==0.1.4.post0.dev2+g8631a3f) (2.20)\n",
            "Requirement already satisfied: zipp>=0.5 in /usr/local/lib/python3.6/dist-packages (from importlib-metadata>=0.20; python_version < \"3.8\"->catalogue<1.1.0,>=0.0.7->spacy->fastai==2.1.9->fastaudio==0.1.4.post0.dev2+g8631a3f) (3.4.0)\n",
            "Building wheels for collected packages: fastaudio\n",
            "  Building wheel for fastaudio (setup.py) ... \u001b[?25l\u001b[?25hdone\n",
            "  Created wheel for fastaudio: filename=fastaudio-0.1.4.post0.dev2+g8631a3f-py2.py3-none-any.whl size=18329 sha256=1b12c50b9dd8bf98de7daed515daea74b506dfae838c5bbe10b93580a90430f9\n",
            "  Stored in directory: /tmp/pip-ephem-wheel-cache-55prread/wheels/20/af/b1/ea2a6d91971f5e3f435c6a0aa2ae8b7a010b644cc01e24b0ce\n",
            "Successfully built fastaudio\n",
            "Collecting git+https://github.com/fastai/fastai/tree/v2.0-branch\n",
            "  Cloning https://github.com/fastai/fastai/tree/v2.0-branch to /tmp/pip-req-build-s90wr_5y\n",
            "  Running command git clone -q https://github.com/fastai/fastai/tree/v2.0-branch /tmp/pip-req-build-s90wr_5y\n",
            "  fatal: repository 'https://github.com/fastai/fastai/tree/v2.0-branch/' not found\n",
            "\u001b[31mERROR: Command errored out with exit status 128: git clone -q https://github.com/fastai/fastai/tree/v2.0-branch /tmp/pip-req-build-s90wr_5y Check the logs for full command output.\u001b[0m\n",
            "Mounted at /content/gdrive\n"
          ],
          "name": "stdout"
        }
      ]
    },
    {
      "cell_type": "markdown",
      "metadata": {
        "id": "bfGJF2lYWwNz"
      },
      "source": [
        "**COLAB USERS: Before you continue and import the lib, go to the `Runtime` menu and select `Restart Runtime`.**"
      ]
    },
    {
      "cell_type": "code",
      "metadata": {
        "id": "cWt3JprIWwNz",
        "colab": {
          "base_uri": "https://localhost:8080/"
        },
        "outputId": "acb28a64-b1da-4a49-bc6c-eb79c2498329"
      },
      "source": [
        "from fastai.vision.all import *\n",
        "from fastai.vision.all import cnn_learner\n",
        "from fastaudio.core.all import *\n",
        "from fastaudio.augment.all import *\n",
        "from fastaudio.ci import skip_if_ci"
      ],
      "execution_count": null,
      "outputs": [
        {
          "output_type": "stream",
          "text": [
            "/usr/local/lib/python3.6/dist-packages/torchaudio/backend/utils.py:54: UserWarning: \"sox\" backend is being deprecated. The default backend will be changed to \"sox_io\" backend in 0.8.0 and \"sox\" backend will be removed in 0.9.0. Please migrate to \"sox_io\" backend. Please refer to https://github.com/pytorch/audio/issues/903 for the detail.\n",
            "  '\"sox\" backend is being deprecated. '\n"
          ],
          "name": "stderr"
        }
      ]
    },
    {
      "cell_type": "code",
      "metadata": {
        "colab": {
          "resources": {
            "http://localhost:8080/nbextensions/google.colab/files.js": {
              "data": "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",
              "ok": true,
              "headers": [
                [
                  "content-type",
                  "application/javascript"
                ]
              ],
              "status": 200,
              "status_text": ""
            }
          },
          "base_uri": "https://localhost:8080/",
          "height": 553
        },
        "id": "LoBxhmLjr9Va",
        "outputId": "665afbbc-74a2-4e6f-ba39-193143afb5a0"
      },
      "source": [
        "from google.colab import files\r\n",
        "! pip install -q kaggle\r\n",
        "files.upload()\r\n",
        "\r\n",
        "! mkdir ~/.kaggle\r\n",
        "! cp kaggle.json ~/.kaggle/\r\n",
        "! chmod 600 ~/.kaggle/kaggle.json\r\n",
        "! kaggle datasets list\r\n",
        "from kaggle import api \r\n",
        "from pandas.api.types import is_string_dtype, is_numeric_dtype, is_categorical_dtype\r\n",
        "! mkdir freesound\r\n",
        "! kaggle datasets download -d mmoreaux/audio-cats-and-dogs\r\n"
      ],
      "execution_count": null,
      "outputs": [
        {
          "output_type": "display_data",
          "data": {
            "text/html": [
              "\n",
              "     <input type=\"file\" id=\"files-21701b2c-48cd-467f-88f3-96a816ba7c07\" name=\"files[]\" multiple disabled\n",
              "        style=\"border:none\" />\n",
              "     <output id=\"result-21701b2c-48cd-467f-88f3-96a816ba7c07\">\n",
              "      Upload widget is only available when the cell has been executed in the\n",
              "      current browser session. Please rerun this cell to enable.\n",
              "      </output>\n",
              "      <script src=\"/nbextensions/google.colab/files.js\"></script> "
            ],
            "text/plain": [
              "<IPython.core.display.HTML object>"
            ]
          },
          "metadata": {
            "tags": []
          }
        },
        {
          "output_type": "stream",
          "text": [
            "Saving kaggle.json to kaggle.json\n",
            "mkdir: cannot create directory ‘/root/.kaggle’: File exists\n",
            "Warning: Looks like you're using an outdated API Version, please consider updating (server 1.5.10 / client 1.5.4)\n",
            "ref                                                       title                                         size  lastUpdated          downloadCount  \n",
            "--------------------------------------------------------  -------------------------------------------  -----  -------------------  -------------  \n",
            "gpreda/reddit-wallstreetsbets-posts                       Reddit WallStreetBets Posts                    7MB  2021-02-15 06:07:04            913  \n",
            "michau96/restaurant-business-rankings-2020                Restaurant Business Rankings 2020             16KB  2021-01-30 14:20:45           1311  \n",
            "yorkehead/stock-market-subreddits                         Stock Market Subreddits                        1MB  2021-01-29 13:53:50            163  \n",
            "aagghh/crypto-telegram-groups                             Crypto telegram groups                       297MB  2021-02-02 09:58:25            120  \n",
            "timoboz/superbowl-history-1967-2020                       Superbowl History 1967 - 2020                  2KB  2020-02-03 23:41:14           4463  \n",
            "prondeau/superbowlads                                     Super Bowl Ads                                36KB  2020-02-04 18:04:07           1161  \n",
            "jessemostipak/african-american-achievements               African American Achievements                 28KB  2020-06-08 22:15:20            186  \n",
            "iainmcintosh/wsb-gme-reddit-submission-vs-stock-price     WSB / GME Reddit submission vs stock price   210KB  2021-01-30 15:31:16             40  \n",
            "docsouth-data/north-american-slave-narratives             North American Slave Narratives               42MB  2017-08-14 18:54:00            183  \n",
            "docsouth-data/the-church-in-the-southern-black-community  The Church in the Southern Black Community    28MB  2017-08-14 19:50:28            113  \n",
            "shivamb/netflix-shows                                     Netflix Movies and TV Shows                    1MB  2021-01-18 16:20:26          89646  \n",
            "gpreda/covid-world-vaccination-progress                   COVID-19 World Vaccination Progress           68KB  2021-02-15 06:08:02          11348  \n",
            "ayushggarg/all-trumps-twitter-insults-20152021            All Trump's Twitter insults (2015-2021)      581KB  2021-01-20 16:51:05           2933  \n",
            "arashnic/hr-analytics-job-change-of-data-scientists       HR Analytics: Job Change of Data Scientists  295KB  2020-12-07 00:25:10           7561  \n",
            "jsphyg/weather-dataset-rattle-package                     Rain in Australia                              4MB  2020-12-11 10:26:12          32838  \n",
            "sakshigoyal7/credit-card-customers                        Credit Card customers                        379KB  2020-11-19 07:38:44          25070  \n",
            "gregorut/videogamesales                                   Video Game Sales                             381KB  2016-10-26 09:10:49         190822  \n",
            "gpreda/pfizer-vaccine-tweets                              Pfizer Vaccine Tweets                        916KB  2021-02-15 06:09:22           4200  \n",
            "datasnaek/youtube-new                                     Trending YouTube Video Statistics            201MB  2019-06-03 00:56:47         127250  \n",
            "google/tinyquickdraw                                      QuickDraw Sketches                            11GB  2018-04-18 19:38:04           2828  \n",
            "Downloading audio-cats-and-dogs.zip to /content\n",
            " 74% 72.0M/97.0M [00:00<00:00, 43.7MB/s]\n",
            "100% 97.0M/97.0M [00:01<00:00, 91.2MB/s]\n"
          ],
          "name": "stdout"
        }
      ]
    },
    {
      "cell_type": "code",
      "metadata": {
        "colab": {
          "base_uri": "https://localhost:8080/"
        },
        "id": "Re3f4jZm81XE",
        "outputId": "1644daa6-8461-4335-b7fa-b2138f5ab811"
      },
      "source": [
        "! unzip audio-cats-and-dogs.zip -d audio"
      ],
      "execution_count": null,
      "outputs": [
        {
          "output_type": "stream",
          "text": [
            "Archive:  audio-cats-and-dogs.zip\n",
            "  inflating: audio/cats_dogs/cat_1.wav  \n",
            "  inflating: audio/cats_dogs/cat_10.wav  \n",
            "  inflating: audio/cats_dogs/cat_100.wav  \n",
            "  inflating: audio/cats_dogs/cat_101.wav  \n",
            "  inflating: audio/cats_dogs/cat_102.wav  \n",
            "  inflating: audio/cats_dogs/cat_103.wav  \n",
            "  inflating: audio/cats_dogs/cat_105.wav  \n",
            "  inflating: audio/cats_dogs/cat_106.wav  \n",
            "  inflating: audio/cats_dogs/cat_107.wav  \n",
            "  inflating: audio/cats_dogs/cat_108.wav  \n",
            "  inflating: audio/cats_dogs/cat_109.wav  \n",
            "  inflating: audio/cats_dogs/cat_11.wav  \n",
            "  inflating: audio/cats_dogs/cat_110.wav  \n",
            "  inflating: audio/cats_dogs/cat_112.wav  \n",
            "  inflating: audio/cats_dogs/cat_113.wav  \n",
            "  inflating: audio/cats_dogs/cat_114.wav  \n",
            "  inflating: audio/cats_dogs/cat_115.wav  \n",
            "  inflating: audio/cats_dogs/cat_116.wav  \n",
            "  inflating: audio/cats_dogs/cat_117.wav  \n",
            "  inflating: audio/cats_dogs/cat_118.wav  \n",
            "  inflating: audio/cats_dogs/cat_119.wav  \n",
            "  inflating: audio/cats_dogs/cat_12.wav  \n",
            "  inflating: audio/cats_dogs/cat_120.wav  \n",
            "  inflating: audio/cats_dogs/cat_121.wav  \n",
            "  inflating: audio/cats_dogs/cat_122.wav  \n",
            "  inflating: audio/cats_dogs/cat_123.wav  \n",
            "  inflating: audio/cats_dogs/cat_124.wav  \n",
            "  inflating: audio/cats_dogs/cat_125.wav  \n",
            "  inflating: audio/cats_dogs/cat_126.wav  \n",
            "  inflating: audio/cats_dogs/cat_127.wav  \n",
            "  inflating: audio/cats_dogs/cat_128.wav  \n",
            "  inflating: audio/cats_dogs/cat_129.wav  \n",
            "  inflating: audio/cats_dogs/cat_13.wav  \n",
            "  inflating: audio/cats_dogs/cat_130.wav  \n",
            "  inflating: audio/cats_dogs/cat_131.wav  \n",
            "  inflating: audio/cats_dogs/cat_132.wav  \n",
            "  inflating: audio/cats_dogs/cat_133.wav  \n",
            "  inflating: audio/cats_dogs/cat_134.wav  \n",
            "  inflating: audio/cats_dogs/cat_135.wav  \n",
            "  inflating: audio/cats_dogs/cat_136.wav  \n",
            "  inflating: audio/cats_dogs/cat_137.wav  \n",
            "  inflating: audio/cats_dogs/cat_138.wav  \n",
            "  inflating: audio/cats_dogs/cat_139.wav  \n",
            "  inflating: audio/cats_dogs/cat_14.wav  \n",
            "  inflating: audio/cats_dogs/cat_140.wav  \n",
            "  inflating: audio/cats_dogs/cat_141.wav  \n",
            "  inflating: audio/cats_dogs/cat_142.wav  \n",
            "  inflating: audio/cats_dogs/cat_143.wav  \n",
            "  inflating: audio/cats_dogs/cat_144.wav  \n",
            "  inflating: audio/cats_dogs/cat_146.wav  \n",
            "  inflating: audio/cats_dogs/cat_147.wav  \n",
            "  inflating: audio/cats_dogs/cat_148.wav  \n",
            "  inflating: audio/cats_dogs/cat_149.wav  \n",
            "  inflating: audio/cats_dogs/cat_15.wav  \n",
            "  inflating: audio/cats_dogs/cat_150.wav  \n",
            "  inflating: audio/cats_dogs/cat_151.wav  \n",
            "  inflating: audio/cats_dogs/cat_152.wav  \n",
            "  inflating: audio/cats_dogs/cat_153.wav  \n",
            "  inflating: audio/cats_dogs/cat_154.wav  \n",
            "  inflating: audio/cats_dogs/cat_155.wav  \n",
            "  inflating: audio/cats_dogs/cat_156.wav  \n",
            "  inflating: audio/cats_dogs/cat_157.wav  \n",
            "  inflating: audio/cats_dogs/cat_158.wav  \n",
            "  inflating: audio/cats_dogs/cat_159.wav  \n",
            "  inflating: audio/cats_dogs/cat_16.wav  \n",
            "  inflating: audio/cats_dogs/cat_160.wav  \n",
            "  inflating: audio/cats_dogs/cat_161.wav  \n",
            "  inflating: audio/cats_dogs/cat_162.wav  \n",
            "  inflating: audio/cats_dogs/cat_163.wav  \n",
            "  inflating: audio/cats_dogs/cat_164.wav  \n",
            "  inflating: audio/cats_dogs/cat_165.wav  \n",
            "  inflating: audio/cats_dogs/cat_166.wav  \n",
            "  inflating: audio/cats_dogs/cat_167.wav  \n",
            "  inflating: audio/cats_dogs/cat_17.wav  \n",
            "  inflating: audio/cats_dogs/cat_18.wav  \n",
            "  inflating: audio/cats_dogs/cat_19.wav  \n",
            "  inflating: audio/cats_dogs/cat_2.wav  \n",
            "  inflating: audio/cats_dogs/cat_20.wav  \n",
            "  inflating: audio/cats_dogs/cat_21.wav  \n",
            "  inflating: audio/cats_dogs/cat_22.wav  \n",
            "  inflating: audio/cats_dogs/cat_23.wav  \n",
            "  inflating: audio/cats_dogs/cat_24.wav  \n",
            "  inflating: audio/cats_dogs/cat_25.wav  \n",
            "  inflating: audio/cats_dogs/cat_26.wav  \n",
            "  inflating: audio/cats_dogs/cat_27.wav  \n",
            "  inflating: audio/cats_dogs/cat_28.wav  \n",
            "  inflating: audio/cats_dogs/cat_29.wav  \n",
            "  inflating: audio/cats_dogs/cat_3.wav  \n",
            "  inflating: audio/cats_dogs/cat_30.wav  \n",
            "  inflating: audio/cats_dogs/cat_31.wav  \n",
            "  inflating: audio/cats_dogs/cat_32.wav  \n",
            "  inflating: audio/cats_dogs/cat_33.wav  \n",
            "  inflating: audio/cats_dogs/cat_34.wav  \n",
            "  inflating: audio/cats_dogs/cat_35.wav  \n",
            "  inflating: audio/cats_dogs/cat_36.wav  \n",
            "  inflating: audio/cats_dogs/cat_37.wav  \n",
            "  inflating: audio/cats_dogs/cat_38.wav  \n",
            "  inflating: audio/cats_dogs/cat_39.wav  \n",
            "  inflating: audio/cats_dogs/cat_4.wav  \n",
            "  inflating: audio/cats_dogs/cat_40.wav  \n",
            "  inflating: audio/cats_dogs/cat_41.wav  \n",
            "  inflating: audio/cats_dogs/cat_42.wav  \n",
            "  inflating: audio/cats_dogs/cat_43.wav  \n",
            "  inflating: audio/cats_dogs/cat_44.wav  \n",
            "  inflating: audio/cats_dogs/cat_45.wav  \n",
            "  inflating: audio/cats_dogs/cat_46.wav  \n",
            "  inflating: audio/cats_dogs/cat_47.wav  \n",
            "  inflating: audio/cats_dogs/cat_48.wav  \n",
            "  inflating: audio/cats_dogs/cat_49.wav  \n",
            "  inflating: audio/cats_dogs/cat_5.wav  \n",
            "  inflating: audio/cats_dogs/cat_50.wav  \n",
            "  inflating: audio/cats_dogs/cat_51.wav  \n",
            "  inflating: audio/cats_dogs/cat_52.wav  \n",
            "  inflating: audio/cats_dogs/cat_53.wav  \n",
            "  inflating: audio/cats_dogs/cat_54.wav  \n",
            "  inflating: audio/cats_dogs/cat_55.wav  \n",
            "  inflating: audio/cats_dogs/cat_56.wav  \n",
            "  inflating: audio/cats_dogs/cat_57.wav  \n",
            "  inflating: audio/cats_dogs/cat_58.wav  \n",
            "  inflating: audio/cats_dogs/cat_59.wav  \n",
            "  inflating: audio/cats_dogs/cat_6.wav  \n",
            "  inflating: audio/cats_dogs/cat_60.wav  \n",
            "  inflating: audio/cats_dogs/cat_61.wav  \n",
            "  inflating: audio/cats_dogs/cat_62.wav  \n",
            "  inflating: audio/cats_dogs/cat_63.wav  \n",
            "  inflating: audio/cats_dogs/cat_64.wav  \n",
            "  inflating: audio/cats_dogs/cat_65.wav  \n",
            "  inflating: audio/cats_dogs/cat_66.wav  \n",
            "  inflating: audio/cats_dogs/cat_67.wav  \n",
            "  inflating: audio/cats_dogs/cat_68.wav  \n",
            "  inflating: audio/cats_dogs/cat_69.wav  \n",
            "  inflating: audio/cats_dogs/cat_7.wav  \n",
            "  inflating: audio/cats_dogs/cat_70.wav  \n",
            "  inflating: audio/cats_dogs/cat_71.wav  \n",
            "  inflating: audio/cats_dogs/cat_72.wav  \n",
            "  inflating: audio/cats_dogs/cat_73.wav  \n",
            "  inflating: audio/cats_dogs/cat_74.wav  \n",
            "  inflating: audio/cats_dogs/cat_75.wav  \n",
            "  inflating: audio/cats_dogs/cat_76.wav  \n",
            "  inflating: audio/cats_dogs/cat_77.wav  \n",
            "  inflating: audio/cats_dogs/cat_78.wav  \n",
            "  inflating: audio/cats_dogs/cat_79.wav  \n",
            "  inflating: audio/cats_dogs/cat_8.wav  \n",
            "  inflating: audio/cats_dogs/cat_80.wav  \n",
            "  inflating: audio/cats_dogs/cat_81.wav  \n",
            "  inflating: audio/cats_dogs/cat_82.wav  \n",
            "  inflating: audio/cats_dogs/cat_83.wav  \n",
            "  inflating: audio/cats_dogs/cat_84.wav  \n",
            "  inflating: audio/cats_dogs/cat_85.wav  \n",
            "  inflating: audio/cats_dogs/cat_86.wav  \n",
            "  inflating: audio/cats_dogs/cat_87.wav  \n",
            "  inflating: audio/cats_dogs/cat_88.wav  \n",
            "  inflating: audio/cats_dogs/cat_89.wav  \n",
            "  inflating: audio/cats_dogs/cat_9.wav  \n",
            "  inflating: audio/cats_dogs/cat_90.wav  \n",
            "  inflating: audio/cats_dogs/cat_91.wav  \n",
            "  inflating: audio/cats_dogs/cat_92.wav  \n",
            "  inflating: audio/cats_dogs/cat_93.wav  \n",
            "  inflating: audio/cats_dogs/cat_94.wav  \n",
            "  inflating: audio/cats_dogs/cat_95.wav  \n",
            "  inflating: audio/cats_dogs/cat_96.wav  \n",
            "  inflating: audio/cats_dogs/cat_97.wav  \n",
            "  inflating: audio/cats_dogs/cat_98.wav  \n",
            "  inflating: audio/cats_dogs/cat_99.wav  \n",
            "  inflating: audio/cats_dogs/dog_barking_0.wav  \n",
            "  inflating: audio/cats_dogs/dog_barking_1.wav  \n",
            "  inflating: audio/cats_dogs/dog_barking_10.wav  \n",
            "  inflating: audio/cats_dogs/dog_barking_100.wav  \n",
            "  inflating: audio/cats_dogs/dog_barking_101.wav  \n",
            "  inflating: audio/cats_dogs/dog_barking_102.wav  \n",
            "  inflating: audio/cats_dogs/dog_barking_103.wav  \n",
            "  inflating: audio/cats_dogs/dog_barking_104.wav  \n",
            "  inflating: audio/cats_dogs/dog_barking_105.wav  \n",
            "  inflating: audio/cats_dogs/dog_barking_106.wav  \n",
            "  inflating: audio/cats_dogs/dog_barking_107.wav  \n",
            "  inflating: audio/cats_dogs/dog_barking_108.wav  \n",
            "  inflating: audio/cats_dogs/dog_barking_109.wav  \n",
            "  inflating: audio/cats_dogs/dog_barking_11.wav  \n",
            "  inflating: audio/cats_dogs/dog_barking_110.wav  \n",
            "  inflating: audio/cats_dogs/dog_barking_111.wav  \n",
            "  inflating: audio/cats_dogs/dog_barking_112.wav  \n",
            "  inflating: audio/cats_dogs/dog_barking_12.wav  \n",
            "  inflating: audio/cats_dogs/dog_barking_13.wav  \n",
            "  inflating: audio/cats_dogs/dog_barking_14.wav  \n",
            "  inflating: audio/cats_dogs/dog_barking_15.wav  \n",
            "  inflating: audio/cats_dogs/dog_barking_16.wav  \n",
            "  inflating: audio/cats_dogs/dog_barking_17.wav  \n",
            "  inflating: audio/cats_dogs/dog_barking_18.wav  \n",
            "  inflating: audio/cats_dogs/dog_barking_19.wav  \n",
            "  inflating: audio/cats_dogs/dog_barking_2.wav  \n",
            "  inflating: audio/cats_dogs/dog_barking_20.wav  \n",
            "  inflating: audio/cats_dogs/dog_barking_21.wav  \n",
            "  inflating: audio/cats_dogs/dog_barking_22.wav  \n",
            "  inflating: audio/cats_dogs/dog_barking_23.wav  \n",
            "  inflating: audio/cats_dogs/dog_barking_24.wav  \n",
            "  inflating: audio/cats_dogs/dog_barking_25.wav  \n",
            "  inflating: audio/cats_dogs/dog_barking_26.wav  \n",
            "  inflating: audio/cats_dogs/dog_barking_27.wav  \n",
            "  inflating: audio/cats_dogs/dog_barking_28.wav  \n",
            "  inflating: audio/cats_dogs/dog_barking_29.wav  \n",
            "  inflating: audio/cats_dogs/dog_barking_3.wav  \n",
            "  inflating: audio/cats_dogs/dog_barking_30.wav  \n",
            "  inflating: audio/cats_dogs/dog_barking_31.wav  \n",
            "  inflating: audio/cats_dogs/dog_barking_32.wav  \n",
            "  inflating: audio/cats_dogs/dog_barking_33.wav  \n",
            "  inflating: audio/cats_dogs/dog_barking_34.wav  \n",
            "  inflating: audio/cats_dogs/dog_barking_35.wav  \n",
            "  inflating: audio/cats_dogs/dog_barking_36.wav  \n",
            "  inflating: audio/cats_dogs/dog_barking_37.wav  \n",
            "  inflating: audio/cats_dogs/dog_barking_38.wav  \n",
            "  inflating: audio/cats_dogs/dog_barking_39.wav  \n",
            "  inflating: audio/cats_dogs/dog_barking_4.wav  \n",
            "  inflating: audio/cats_dogs/dog_barking_40.wav  \n",
            "  inflating: audio/cats_dogs/dog_barking_41.wav  \n",
            "  inflating: audio/cats_dogs/dog_barking_42.wav  \n",
            "  inflating: audio/cats_dogs/dog_barking_43.wav  \n",
            "  inflating: audio/cats_dogs/dog_barking_44.wav  \n",
            "  inflating: audio/cats_dogs/dog_barking_45.wav  \n",
            "  inflating: audio/cats_dogs/dog_barking_46.wav  \n",
            "  inflating: audio/cats_dogs/dog_barking_47.wav  \n",
            "  inflating: audio/cats_dogs/dog_barking_48.wav  \n",
            "  inflating: audio/cats_dogs/dog_barking_49.wav  \n",
            "  inflating: audio/cats_dogs/dog_barking_5.wav  \n",
            "  inflating: audio/cats_dogs/dog_barking_50.wav  \n",
            "  inflating: audio/cats_dogs/dog_barking_51.wav  \n",
            "  inflating: audio/cats_dogs/dog_barking_52.wav  \n",
            "  inflating: audio/cats_dogs/dog_barking_53.wav  \n",
            "  inflating: audio/cats_dogs/dog_barking_54.wav  \n",
            "  inflating: audio/cats_dogs/dog_barking_55.wav  \n",
            "  inflating: audio/cats_dogs/dog_barking_56.wav  \n",
            "  inflating: audio/cats_dogs/dog_barking_57.wav  \n",
            "  inflating: audio/cats_dogs/dog_barking_58.wav  \n",
            "  inflating: audio/cats_dogs/dog_barking_59.wav  \n",
            "  inflating: audio/cats_dogs/dog_barking_6.wav  \n",
            "  inflating: audio/cats_dogs/dog_barking_60.wav  \n",
            "  inflating: audio/cats_dogs/dog_barking_61.wav  \n",
            "  inflating: audio/cats_dogs/dog_barking_62.wav  \n",
            "  inflating: audio/cats_dogs/dog_barking_63.wav  \n",
            "  inflating: audio/cats_dogs/dog_barking_64.wav  \n",
            "  inflating: audio/cats_dogs/dog_barking_65.wav  \n",
            "  inflating: audio/cats_dogs/dog_barking_66.wav  \n",
            "  inflating: audio/cats_dogs/dog_barking_67.wav  \n",
            "  inflating: audio/cats_dogs/dog_barking_68.wav  \n",
            "  inflating: audio/cats_dogs/dog_barking_69.wav  \n",
            "  inflating: audio/cats_dogs/dog_barking_7.wav  \n",
            "  inflating: audio/cats_dogs/dog_barking_70.wav  \n",
            "  inflating: audio/cats_dogs/dog_barking_71.wav  \n",
            "  inflating: audio/cats_dogs/dog_barking_72.wav  \n",
            "  inflating: audio/cats_dogs/dog_barking_73.wav  \n",
            "  inflating: audio/cats_dogs/dog_barking_74.wav  \n",
            "  inflating: audio/cats_dogs/dog_barking_75.wav  \n",
            "  inflating: audio/cats_dogs/dog_barking_76.wav  \n",
            "  inflating: audio/cats_dogs/dog_barking_77.wav  \n",
            "  inflating: audio/cats_dogs/dog_barking_78.wav  \n",
            "  inflating: audio/cats_dogs/dog_barking_79.wav  \n",
            "  inflating: audio/cats_dogs/dog_barking_8.wav  \n",
            "  inflating: audio/cats_dogs/dog_barking_80.wav  \n",
            "  inflating: audio/cats_dogs/dog_barking_81.wav  \n",
            "  inflating: audio/cats_dogs/dog_barking_82.wav  \n",
            "  inflating: audio/cats_dogs/dog_barking_83.wav  \n",
            "  inflating: audio/cats_dogs/dog_barking_84.wav  \n",
            "  inflating: audio/cats_dogs/dog_barking_85.wav  \n",
            "  inflating: audio/cats_dogs/dog_barking_86.wav  \n",
            "  inflating: audio/cats_dogs/dog_barking_87.wav  \n",
            "  inflating: audio/cats_dogs/dog_barking_88.wav  \n",
            "  inflating: audio/cats_dogs/dog_barking_89.wav  \n",
            "  inflating: audio/cats_dogs/dog_barking_9.wav  \n",
            "  inflating: audio/cats_dogs/dog_barking_90.wav  \n",
            "  inflating: audio/cats_dogs/dog_barking_91.wav  \n",
            "  inflating: audio/cats_dogs/dog_barking_92.wav  \n",
            "  inflating: audio/cats_dogs/dog_barking_93.wav  \n",
            "  inflating: audio/cats_dogs/dog_barking_94.wav  \n",
            "  inflating: audio/cats_dogs/dog_barking_95.wav  \n",
            "  inflating: audio/cats_dogs/dog_barking_96.wav  \n",
            "  inflating: audio/cats_dogs/dog_barking_97.wav  \n",
            "  inflating: audio/cats_dogs/dog_barking_98.wav  \n",
            "  inflating: audio/cats_dogs/dog_barking_99.wav  \n",
            "  inflating: audio/cats_dogs/test/cats/cat_110.wav  \n",
            "  inflating: audio/cats_dogs/test/cats/cat_112.wav  \n",
            "  inflating: audio/cats_dogs/test/cats/cat_115.wav  \n",
            "  inflating: audio/cats_dogs/test/cats/cat_126.wav  \n",
            "  inflating: audio/cats_dogs/test/cats/cat_129.wav  \n",
            "  inflating: audio/cats_dogs/test/cats/cat_130.wav  \n",
            "  inflating: audio/cats_dogs/test/cats/cat_133.wav  \n",
            "  inflating: audio/cats_dogs/test/cats/cat_135.wav  \n",
            "  inflating: audio/cats_dogs/test/cats/cat_137.wav  \n",
            "  inflating: audio/cats_dogs/test/cats/cat_14.wav  \n",
            "  inflating: audio/cats_dogs/test/cats/cat_143.wav  \n",
            "  inflating: audio/cats_dogs/test/cats/cat_144.wav  \n",
            "  inflating: audio/cats_dogs/test/cats/cat_148.wav  \n",
            "  inflating: audio/cats_dogs/test/cats/cat_152.wav  \n",
            "  inflating: audio/cats_dogs/test/cats/cat_158.wav  \n",
            "  inflating: audio/cats_dogs/test/cats/cat_17.wav  \n",
            "  inflating: audio/cats_dogs/test/cats/cat_20.wav  \n",
            "  inflating: audio/cats_dogs/test/cats/cat_24.wav  \n",
            "  inflating: audio/cats_dogs/test/cats/cat_28.wav  \n",
            "  inflating: audio/cats_dogs/test/cats/cat_29.wav  \n",
            "  inflating: audio/cats_dogs/test/cats/cat_3.wav  \n",
            "  inflating: audio/cats_dogs/test/cats/cat_36.wav  \n",
            "  inflating: audio/cats_dogs/test/cats/cat_42.wav  \n",
            "  inflating: audio/cats_dogs/test/cats/cat_55.wav  \n",
            "  inflating: audio/cats_dogs/test/cats/cat_56.wav  \n",
            "  inflating: audio/cats_dogs/test/cats/cat_57.wav  \n",
            "  inflating: audio/cats_dogs/test/cats/cat_58.wav  \n",
            "  inflating: audio/cats_dogs/test/cats/cat_59.wav  \n",
            "  inflating: audio/cats_dogs/test/cats/cat_61.wav  \n",
            "  inflating: audio/cats_dogs/test/cats/cat_66.wav  \n",
            "  inflating: audio/cats_dogs/test/cats/cat_67.wav  \n",
            "  inflating: audio/cats_dogs/test/cats/cat_75.wav  \n",
            "  inflating: audio/cats_dogs/test/cats/cat_76.wav  \n",
            "  inflating: audio/cats_dogs/test/cats/cat_79.wav  \n",
            "  inflating: audio/cats_dogs/test/cats/cat_82.wav  \n",
            "  inflating: audio/cats_dogs/test/cats/cat_85.wav  \n",
            "  inflating: audio/cats_dogs/test/cats/cat_86.wav  \n",
            "  inflating: audio/cats_dogs/test/cats/cat_88.wav  \n",
            "  inflating: audio/cats_dogs/test/cats/cat_90.wav  \n",
            "  inflating: audio/cats_dogs/test/test/dog_barking_112.wav  \n",
            "  inflating: audio/cats_dogs/test/test/dog_barking_12.wav  \n",
            "  inflating: audio/cats_dogs/test/test/dog_barking_15.wav  \n",
            "  inflating: audio/cats_dogs/test/test/dog_barking_19.wav  \n",
            "  inflating: audio/cats_dogs/test/test/dog_barking_24.wav  \n",
            "  inflating: audio/cats_dogs/test/test/dog_barking_3.wav  \n",
            "  inflating: audio/cats_dogs/test/test/dog_barking_34.wav  \n",
            "  inflating: audio/cats_dogs/test/test/dog_barking_43.wav  \n",
            "  inflating: audio/cats_dogs/test/test/dog_barking_44.wav  \n",
            "  inflating: audio/cats_dogs/test/test/dog_barking_45.wav  \n",
            "  inflating: audio/cats_dogs/test/test/dog_barking_46.wav  \n",
            "  inflating: audio/cats_dogs/test/test/dog_barking_48.wav  \n",
            "  inflating: audio/cats_dogs/test/test/dog_barking_49.wav  \n",
            "  inflating: audio/cats_dogs/test/test/dog_barking_54.wav  \n",
            "  inflating: audio/cats_dogs/test/test/dog_barking_59.wav  \n",
            "  inflating: audio/cats_dogs/test/test/dog_barking_62.wav  \n",
            "  inflating: audio/cats_dogs/test/test/dog_barking_64.wav  \n",
            "  inflating: audio/cats_dogs/test/test/dog_barking_66.wav  \n",
            "  inflating: audio/cats_dogs/test/test/dog_barking_7.wav  \n",
            "  inflating: audio/cats_dogs/test/test/dog_barking_73.wav  \n",
            "  inflating: audio/cats_dogs/test/test/dog_barking_78.wav  \n",
            "  inflating: audio/cats_dogs/test/test/dog_barking_8.wav  \n",
            "  inflating: audio/cats_dogs/test/test/dog_barking_82.wav  \n",
            "  inflating: audio/cats_dogs/test/test/dog_barking_89.wav  \n",
            "  inflating: audio/cats_dogs/test/test/dog_barking_9.wav  \n",
            "  inflating: audio/cats_dogs/test/test/dog_barking_90.wav  \n",
            "  inflating: audio/cats_dogs/test/test/dog_barking_91.wav  \n",
            "  inflating: audio/cats_dogs/test/test/dog_barking_99.wav  \n",
            "  inflating: audio/cats_dogs/train/cat/cat_1.wav  \n",
            "  inflating: audio/cats_dogs/train/cat/cat_10.wav  \n",
            "  inflating: audio/cats_dogs/train/cat/cat_100.wav  \n",
            "  inflating: audio/cats_dogs/train/cat/cat_101.wav  \n",
            "  inflating: audio/cats_dogs/train/cat/cat_102.wav  \n",
            "  inflating: audio/cats_dogs/train/cat/cat_103.wav  \n",
            "  inflating: audio/cats_dogs/train/cat/cat_105.wav  \n",
            "  inflating: audio/cats_dogs/train/cat/cat_106.wav  \n",
            "  inflating: audio/cats_dogs/train/cat/cat_107.wav  \n",
            "  inflating: audio/cats_dogs/train/cat/cat_108.wav  \n",
            "  inflating: audio/cats_dogs/train/cat/cat_109.wav  \n",
            "  inflating: audio/cats_dogs/train/cat/cat_11.wav  \n",
            "  inflating: audio/cats_dogs/train/cat/cat_113.wav  \n",
            "  inflating: audio/cats_dogs/train/cat/cat_114.wav  \n",
            "  inflating: audio/cats_dogs/train/cat/cat_116.wav  \n",
            "  inflating: audio/cats_dogs/train/cat/cat_117.wav  \n",
            "  inflating: audio/cats_dogs/train/cat/cat_118.wav  \n",
            "  inflating: audio/cats_dogs/train/cat/cat_119.wav  \n",
            "  inflating: audio/cats_dogs/train/cat/cat_12.wav  \n",
            "  inflating: audio/cats_dogs/train/cat/cat_120.wav  \n",
            "  inflating: audio/cats_dogs/train/cat/cat_121.wav  \n",
            "  inflating: audio/cats_dogs/train/cat/cat_122.wav  \n",
            "  inflating: audio/cats_dogs/train/cat/cat_123.wav  \n",
            "  inflating: audio/cats_dogs/train/cat/cat_124.wav  \n",
            "  inflating: audio/cats_dogs/train/cat/cat_125.wav  \n",
            "  inflating: audio/cats_dogs/train/cat/cat_127.wav  \n",
            "  inflating: audio/cats_dogs/train/cat/cat_128.wav  \n",
            "  inflating: audio/cats_dogs/train/cat/cat_13.wav  \n",
            "  inflating: audio/cats_dogs/train/cat/cat_131.wav  \n",
            "  inflating: audio/cats_dogs/train/cat/cat_132.wav  \n",
            "  inflating: audio/cats_dogs/train/cat/cat_134.wav  \n",
            "  inflating: audio/cats_dogs/train/cat/cat_136.wav  \n",
            "  inflating: audio/cats_dogs/train/cat/cat_138.wav  \n",
            "  inflating: audio/cats_dogs/train/cat/cat_139.wav  \n",
            "  inflating: audio/cats_dogs/train/cat/cat_140.wav  \n",
            "  inflating: audio/cats_dogs/train/cat/cat_141.wav  \n",
            "  inflating: audio/cats_dogs/train/cat/cat_142.wav  \n",
            "  inflating: audio/cats_dogs/train/cat/cat_146.wav  \n",
            "  inflating: audio/cats_dogs/train/cat/cat_147.wav  \n",
            "  inflating: audio/cats_dogs/train/cat/cat_149.wav  \n",
            "  inflating: audio/cats_dogs/train/cat/cat_15.wav  \n",
            "  inflating: audio/cats_dogs/train/cat/cat_150.wav  \n",
            "  inflating: audio/cats_dogs/train/cat/cat_151.wav  \n",
            "  inflating: audio/cats_dogs/train/cat/cat_153.wav  \n",
            "  inflating: audio/cats_dogs/train/cat/cat_154.wav  \n",
            "  inflating: audio/cats_dogs/train/cat/cat_155.wav  \n",
            "  inflating: audio/cats_dogs/train/cat/cat_156.wav  \n",
            "  inflating: audio/cats_dogs/train/cat/cat_157.wav  \n",
            "  inflating: audio/cats_dogs/train/cat/cat_159.wav  \n",
            "  inflating: audio/cats_dogs/train/cat/cat_16.wav  \n",
            "  inflating: audio/cats_dogs/train/cat/cat_160.wav  \n",
            "  inflating: audio/cats_dogs/train/cat/cat_161.wav  \n",
            "  inflating: audio/cats_dogs/train/cat/cat_162.wav  \n",
            "  inflating: audio/cats_dogs/train/cat/cat_163.wav  \n",
            "  inflating: audio/cats_dogs/train/cat/cat_164.wav  \n",
            "  inflating: audio/cats_dogs/train/cat/cat_165.wav  \n",
            "  inflating: audio/cats_dogs/train/cat/cat_166.wav  \n",
            "  inflating: audio/cats_dogs/train/cat/cat_167.wav  \n",
            "  inflating: audio/cats_dogs/train/cat/cat_18.wav  \n",
            "  inflating: audio/cats_dogs/train/cat/cat_19.wav  \n",
            "  inflating: audio/cats_dogs/train/cat/cat_2.wav  \n",
            "  inflating: audio/cats_dogs/train/cat/cat_21.wav  \n",
            "  inflating: audio/cats_dogs/train/cat/cat_22.wav  \n",
            "  inflating: audio/cats_dogs/train/cat/cat_23.wav  \n",
            "  inflating: audio/cats_dogs/train/cat/cat_25.wav  \n",
            "  inflating: audio/cats_dogs/train/cat/cat_26.wav  \n",
            "  inflating: audio/cats_dogs/train/cat/cat_27.wav  \n",
            "  inflating: audio/cats_dogs/train/cat/cat_30.wav  \n",
            "  inflating: audio/cats_dogs/train/cat/cat_31.wav  \n",
            "  inflating: audio/cats_dogs/train/cat/cat_32.wav  \n",
            "  inflating: audio/cats_dogs/train/cat/cat_33.wav  \n",
            "  inflating: audio/cats_dogs/train/cat/cat_34.wav  \n",
            "  inflating: audio/cats_dogs/train/cat/cat_35.wav  \n",
            "  inflating: audio/cats_dogs/train/cat/cat_37.wav  \n",
            "  inflating: audio/cats_dogs/train/cat/cat_38.wav  \n",
            "  inflating: audio/cats_dogs/train/cat/cat_39.wav  \n",
            "  inflating: audio/cats_dogs/train/cat/cat_4.wav  \n",
            "  inflating: audio/cats_dogs/train/cat/cat_40.wav  \n",
            "  inflating: audio/cats_dogs/train/cat/cat_41.wav  \n",
            "  inflating: audio/cats_dogs/train/cat/cat_43.wav  \n",
            "  inflating: audio/cats_dogs/train/cat/cat_44.wav  \n",
            "  inflating: audio/cats_dogs/train/cat/cat_45.wav  \n",
            "  inflating: audio/cats_dogs/train/cat/cat_46.wav  \n",
            "  inflating: audio/cats_dogs/train/cat/cat_47.wav  \n",
            "  inflating: audio/cats_dogs/train/cat/cat_48.wav  \n",
            "  inflating: audio/cats_dogs/train/cat/cat_49.wav  \n",
            "  inflating: audio/cats_dogs/train/cat/cat_5.wav  \n",
            "  inflating: audio/cats_dogs/train/cat/cat_50.wav  \n",
            "  inflating: audio/cats_dogs/train/cat/cat_51.wav  \n",
            "  inflating: audio/cats_dogs/train/cat/cat_52.wav  \n",
            "  inflating: audio/cats_dogs/train/cat/cat_53.wav  \n",
            "  inflating: audio/cats_dogs/train/cat/cat_54.wav  \n",
            "  inflating: audio/cats_dogs/train/cat/cat_6.wav  \n",
            "  inflating: audio/cats_dogs/train/cat/cat_60.wav  \n",
            "  inflating: audio/cats_dogs/train/cat/cat_62.wav  \n",
            "  inflating: audio/cats_dogs/train/cat/cat_63.wav  \n",
            "  inflating: audio/cats_dogs/train/cat/cat_64.wav  \n",
            "  inflating: audio/cats_dogs/train/cat/cat_65.wav  \n",
            "  inflating: audio/cats_dogs/train/cat/cat_68.wav  \n",
            "  inflating: audio/cats_dogs/train/cat/cat_69.wav  \n",
            "  inflating: audio/cats_dogs/train/cat/cat_7.wav  \n",
            "  inflating: audio/cats_dogs/train/cat/cat_70.wav  \n",
            "  inflating: audio/cats_dogs/train/cat/cat_71.wav  \n",
            "  inflating: audio/cats_dogs/train/cat/cat_72.wav  \n",
            "  inflating: audio/cats_dogs/train/cat/cat_73.wav  \n",
            "  inflating: audio/cats_dogs/train/cat/cat_74.wav  \n",
            "  inflating: audio/cats_dogs/train/cat/cat_77.wav  \n",
            "  inflating: audio/cats_dogs/train/cat/cat_78.wav  \n",
            "  inflating: audio/cats_dogs/train/cat/cat_8.wav  \n",
            "  inflating: audio/cats_dogs/train/cat/cat_80.wav  \n",
            "  inflating: audio/cats_dogs/train/cat/cat_81.wav  \n",
            "  inflating: audio/cats_dogs/train/cat/cat_83.wav  \n",
            "  inflating: audio/cats_dogs/train/cat/cat_84.wav  \n",
            "  inflating: audio/cats_dogs/train/cat/cat_87.wav  \n",
            "  inflating: audio/cats_dogs/train/cat/cat_89.wav  \n",
            "  inflating: audio/cats_dogs/train/cat/cat_9.wav  \n",
            "  inflating: audio/cats_dogs/train/cat/cat_91.wav  \n",
            "  inflating: audio/cats_dogs/train/cat/cat_92.wav  \n",
            "  inflating: audio/cats_dogs/train/cat/cat_93.wav  \n",
            "  inflating: audio/cats_dogs/train/cat/cat_94.wav  \n",
            "  inflating: audio/cats_dogs/train/cat/cat_95.wav  \n",
            "  inflating: audio/cats_dogs/train/cat/cat_96.wav  \n",
            "  inflating: audio/cats_dogs/train/cat/cat_97.wav  \n",
            "  inflating: audio/cats_dogs/train/cat/cat_98.wav  \n",
            "  inflating: audio/cats_dogs/train/cat/cat_99.wav  \n",
            "  inflating: audio/cats_dogs/train/dog/dog_barking_0.wav  \n",
            "  inflating: audio/cats_dogs/train/dog/dog_barking_1.wav  \n",
            "  inflating: audio/cats_dogs/train/dog/dog_barking_10.wav  \n",
            "  inflating: audio/cats_dogs/train/dog/dog_barking_100.wav  \n",
            "  inflating: audio/cats_dogs/train/dog/dog_barking_101.wav  \n",
            "  inflating: audio/cats_dogs/train/dog/dog_barking_102.wav  \n",
            "  inflating: audio/cats_dogs/train/dog/dog_barking_103.wav  \n",
            "  inflating: audio/cats_dogs/train/dog/dog_barking_104.wav  \n",
            "  inflating: audio/cats_dogs/train/dog/dog_barking_105.wav  \n",
            "  inflating: audio/cats_dogs/train/dog/dog_barking_106.wav  \n",
            "  inflating: audio/cats_dogs/train/dog/dog_barking_107.wav  \n",
            "  inflating: audio/cats_dogs/train/dog/dog_barking_108.wav  \n",
            "  inflating: audio/cats_dogs/train/dog/dog_barking_109.wav  \n",
            "  inflating: audio/cats_dogs/train/dog/dog_barking_11.wav  \n",
            "  inflating: audio/cats_dogs/train/dog/dog_barking_110.wav  \n",
            "  inflating: audio/cats_dogs/train/dog/dog_barking_111.wav  \n",
            "  inflating: audio/cats_dogs/train/dog/dog_barking_13.wav  \n",
            "  inflating: audio/cats_dogs/train/dog/dog_barking_14.wav  \n",
            "  inflating: audio/cats_dogs/train/dog/dog_barking_16.wav  \n",
            "  inflating: audio/cats_dogs/train/dog/dog_barking_17.wav  \n",
            "  inflating: audio/cats_dogs/train/dog/dog_barking_18.wav  \n",
            "  inflating: audio/cats_dogs/train/dog/dog_barking_2.wav  \n",
            "  inflating: audio/cats_dogs/train/dog/dog_barking_20.wav  \n",
            "  inflating: audio/cats_dogs/train/dog/dog_barking_21.wav  \n",
            "  inflating: audio/cats_dogs/train/dog/dog_barking_22.wav  \n",
            "  inflating: audio/cats_dogs/train/dog/dog_barking_23.wav  \n",
            "  inflating: audio/cats_dogs/train/dog/dog_barking_25.wav  \n",
            "  inflating: audio/cats_dogs/train/dog/dog_barking_26.wav  \n",
            "  inflating: audio/cats_dogs/train/dog/dog_barking_27.wav  \n",
            "  inflating: audio/cats_dogs/train/dog/dog_barking_28.wav  \n",
            "  inflating: audio/cats_dogs/train/dog/dog_barking_29.wav  \n",
            "  inflating: audio/cats_dogs/train/dog/dog_barking_30.wav  \n",
            "  inflating: audio/cats_dogs/train/dog/dog_barking_31.wav  \n",
            "  inflating: audio/cats_dogs/train/dog/dog_barking_32.wav  \n",
            "  inflating: audio/cats_dogs/train/dog/dog_barking_33.wav  \n",
            "  inflating: audio/cats_dogs/train/dog/dog_barking_35.wav  \n",
            "  inflating: audio/cats_dogs/train/dog/dog_barking_36.wav  \n",
            "  inflating: audio/cats_dogs/train/dog/dog_barking_37.wav  \n",
            "  inflating: audio/cats_dogs/train/dog/dog_barking_38.wav  \n",
            "  inflating: audio/cats_dogs/train/dog/dog_barking_39.wav  \n",
            "  inflating: audio/cats_dogs/train/dog/dog_barking_4.wav  \n",
            "  inflating: audio/cats_dogs/train/dog/dog_barking_40.wav  \n",
            "  inflating: audio/cats_dogs/train/dog/dog_barking_41.wav  \n",
            "  inflating: audio/cats_dogs/train/dog/dog_barking_42.wav  \n",
            "  inflating: audio/cats_dogs/train/dog/dog_barking_47.wav  \n",
            "  inflating: audio/cats_dogs/train/dog/dog_barking_5.wav  \n",
            "  inflating: audio/cats_dogs/train/dog/dog_barking_50.wav  \n",
            "  inflating: audio/cats_dogs/train/dog/dog_barking_51.wav  \n",
            "  inflating: audio/cats_dogs/train/dog/dog_barking_52.wav  \n",
            "  inflating: audio/cats_dogs/train/dog/dog_barking_53.wav  \n",
            "  inflating: audio/cats_dogs/train/dog/dog_barking_55.wav  \n",
            "  inflating: audio/cats_dogs/train/dog/dog_barking_56.wav  \n",
            "  inflating: audio/cats_dogs/train/dog/dog_barking_57.wav  \n",
            "  inflating: audio/cats_dogs/train/dog/dog_barking_58.wav  \n",
            "  inflating: audio/cats_dogs/train/dog/dog_barking_6.wav  \n",
            "  inflating: audio/cats_dogs/train/dog/dog_barking_60.wav  \n",
            "  inflating: audio/cats_dogs/train/dog/dog_barking_61.wav  \n",
            "  inflating: audio/cats_dogs/train/dog/dog_barking_63.wav  \n",
            "  inflating: audio/cats_dogs/train/dog/dog_barking_65.wav  \n",
            "  inflating: audio/cats_dogs/train/dog/dog_barking_67.wav  \n",
            "  inflating: audio/cats_dogs/train/dog/dog_barking_68.wav  \n",
            "  inflating: audio/cats_dogs/train/dog/dog_barking_69.wav  \n",
            "  inflating: audio/cats_dogs/train/dog/dog_barking_70.wav  \n",
            "  inflating: audio/cats_dogs/train/dog/dog_barking_71.wav  \n",
            "  inflating: audio/cats_dogs/train/dog/dog_barking_72.wav  \n",
            "  inflating: audio/cats_dogs/train/dog/dog_barking_74.wav  \n",
            "  inflating: audio/cats_dogs/train/dog/dog_barking_75.wav  \n",
            "  inflating: audio/cats_dogs/train/dog/dog_barking_76.wav  \n",
            "  inflating: audio/cats_dogs/train/dog/dog_barking_77.wav  \n",
            "  inflating: audio/cats_dogs/train/dog/dog_barking_79.wav  \n",
            "  inflating: audio/cats_dogs/train/dog/dog_barking_80.wav  \n",
            "  inflating: audio/cats_dogs/train/dog/dog_barking_81.wav  \n",
            "  inflating: audio/cats_dogs/train/dog/dog_barking_83.wav  \n",
            "  inflating: audio/cats_dogs/train/dog/dog_barking_84.wav  \n",
            "  inflating: audio/cats_dogs/train/dog/dog_barking_85.wav  \n",
            "  inflating: audio/cats_dogs/train/dog/dog_barking_86.wav  \n",
            "  inflating: audio/cats_dogs/train/dog/dog_barking_87.wav  \n",
            "  inflating: audio/cats_dogs/train/dog/dog_barking_88.wav  \n",
            "  inflating: audio/cats_dogs/train/dog/dog_barking_92.wav  \n",
            "  inflating: audio/cats_dogs/train/dog/dog_barking_93.wav  \n",
            "  inflating: audio/cats_dogs/train/dog/dog_barking_94.wav  \n",
            "  inflating: audio/cats_dogs/train/dog/dog_barking_95.wav  \n",
            "  inflating: audio/cats_dogs/train/dog/dog_barking_96.wav  \n",
            "  inflating: audio/cats_dogs/train/dog/dog_barking_97.wav  \n",
            "  inflating: audio/cats_dogs/train/dog/dog_barking_98.wav  \n",
            "  inflating: audio/train_test_split.csv  \n",
            "  inflating: audio/utils.py          \n"
          ],
          "name": "stdout"
        }
      ]
    },
    {
      "cell_type": "code",
      "metadata": {
        "colab": {
          "resources": {
            "http://localhost:8080/nbextensions/google.colab/files.js": {
              "data": "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",
              "ok": true,
              "headers": [
                [
                  "content-type",
                  "application/javascript"
                ]
              ],
              "status": 200,
              "status_text": ""
            }
          },
          "base_uri": "https://localhost:8080/",
          "height": 111
        },
        "id": "IGx0ogD531v5",
        "outputId": "73457b17-6ae0-4bc5-9332-5be96638a776"
      },
      "source": [
        "files.upload()"
      ],
      "execution_count": null,
      "outputs": [
        {
          "output_type": "display_data",
          "data": {
            "text/html": [
              "\n",
              "     <input type=\"file\" id=\"files-6ee32471-f0f3-4823-838c-ee1c112ca3cc\" name=\"files[]\" multiple disabled\n",
              "        style=\"border:none\" />\n",
              "     <output id=\"result-6ee32471-f0f3-4823-838c-ee1c112ca3cc\">\n",
              "      Upload widget is only available when the cell has been executed in the\n",
              "      current browser session. Please rerun this cell to enable.\n",
              "      </output>\n",
              "      <script src=\"/nbextensions/google.colab/files.js\"></script> "
            ],
            "text/plain": [
              "<IPython.core.display.HTML object>"
            ]
          },
          "metadata": {
            "tags": []
          }
        },
        {
          "output_type": "stream",
          "text": [
            "Saving train_test_split#1.csv to train_test_split#1.csv\n"
          ],
          "name": "stdout"
        },
        {
          "output_type": "execute_result",
          "data": {
            "text/plain": [
              "{'train_test_split#1.csv': b',filename,category\\r\\n0,cat_22.wav,cat\\r\\n1,cat_116.wav,cat\\r\\n2,cat_155.wav,cat\\r\\n3,cat_58.wav,cat\\r\\n4,cat_77.wav,cat\\r\\n5,cat_144.wav,cat\\r\\n6,cat_49.wav,cat\\r\\n7,cat_38.wav,cat\\r\\n8,cat_5.wav,cat\\r\\n9,cat_2.wav,cat\\r\\n10,cat_55.wav,cat\\r\\n11,cat_166.wav,cat\\r\\n12,cat_52.wav,cat\\r\\n13,cat_94.wav,cat\\r\\n14,cat_83.wav,cat\\r\\n15,cat_60.wav,cat\\r\\n16,cat_70.wav,cat\\r\\n17,cat_45.wav,cat\\r\\n18,cat_29.wav,cat\\r\\n19,cat_149.wav,cat\\r\\n20,cat_50.wav,cat\\r\\n21,cat_46.wav,cat\\r\\n22,cat_89.wav,cat\\r\\n23,cat_65.wav,cat\\r\\n24,cat_13.wav,cat\\r\\n25,cat_125.wav,cat\\r\\n26,cat_136.wav,cat\\r\\n27,cat_53.wav,cat\\r\\n28,cat_12.wav,cat\\r\\n29,cat_20.wav,cat\\r\\n30,cat_21.wav,cat\\r\\n31,cat_8.wav,cat\\r\\n32,cat_59.wav,cat\\r\\n33,cat_150.wav,cat\\r\\n34,cat_47.wav,cat\\r\\n35,cat_112.wav,cat\\r\\n36,cat_160.wav,cat\\r\\n37,cat_66.wav,cat\\r\\n38,cat_9.wav,cat\\r\\n39,cat_138.wav,cat\\r\\n40,cat_106.wav,cat\\r\\n41,cat_141.wav,cat\\r\\n42,cat_67.wav,cat\\r\\n43,cat_24.wav,cat\\r\\n44,cat_117.wav,cat\\r\\n45,cat_120.wav,cat\\r\\n46,cat_103.wav,cat\\r\\n47,cat_63.wav,cat\\r\\n48,cat_74.wav,cat\\r\\n49,dog_barking_97.wav,dog\\r\\n50,dog_barking_0.wav,dog\\r\\n51,dog_barking_93.wav,dog\\r\\n52,dog_barking_10.wav,dog\\r\\n53,dog_barking_26.wav,dog\\r\\n54,dog_barking_28.wav,dog\\r\\n55,dog_barking_106.wav,dog\\r\\n56,dog_barking_5.wav,dog\\r\\n57,dog_barking_94.wav,dog\\r\\n58,dog_barking_65.wav,dog\\r\\n59,dog_barking_18.wav,dog\\r\\n60,dog_barking_100.wav,dog\\r\\n61,dog_barking_78.wav,dog\\r\\n62,dog_barking_48.wav,dog\\r\\n63,dog_barking_35.wav,dog\\r\\n64,dog_barking_82.wav,dog\\r\\n65,dog_barking_1.wav,dog\\r\\n66,dog_barking_15.wav,dog\\r\\n67,dog_barking_42.wav,dog\\r\\n68,dog_barking_8.wav,dog\\r\\n69,dog_barking_47.wav,dog\\r\\n70,dog_barking_52.wav,dog\\r\\n71,dog_barking_63.wav,dog\\r\\n72,dog_barking_38.wav,dog\\r\\n73,dog_barking_96.wav,dog\\r\\n74,dog_barking_92.wav,dog\\r\\n75,dog_barking_71.wav,dog\\r\\n76,dog_barking_3.wav,dog\\r\\n77,dog_barking_51.wav,dog\\r\\n78,dog_barking_39.wav,dog\\r\\n79,dog_barking_21.wav,dog\\r\\n80,dog_barking_73.wav,dog\\r\\n81,dog_barking_40.wav,dog\\r\\n82,dog_barking_103.wav,dog\\r\\n83,dog_barking_32.wav,dog\\r\\n84,dog_barking_34.wav,dog\\r\\n85,dog_barking_64.wav,dog\\r\\n86,dog_barking_104.wav,dog\\r\\n87,dog_barking_61.wav,dog\\r\\n88,dog_barking_11.wav,dog\\r\\n89,dog_barking_70.wav,dog\\r\\n90,dog_barking_43.wav,dog\\r\\n91,dog_barking_112.wav,dog\\r\\n92,dog_barking_44.wav,dog\\r\\n93,dog_barking_109.wav,dog\\r\\n94,dog_barking_69.wav,dog\\r\\n95,dog_barking_77.wav,dog\\r\\n96,dog_barking_60.wav,dog\\r\\n97,dog_barking_57.wav,dog\\r\\n98,cat_99.wav,cat\\r\\n99,cat_54.wav,cat\\r\\n100,cat_34.wav,cat\\r\\n101,cat_132.wav,cat\\r\\n102,cat_124.wav,cat\\r\\n103,cat_56.wav,cat\\r\\n104,cat_86.wav,cat\\r\\n105,cat_119.wav,cat\\r\\n106,cat_134.wav,cat\\r\\n107,cat_130.wav,cat\\r\\n108,cat_76.wav,cat\\r\\n109,cat_90.wav,cat\\r\\n110,cat_101.wav,cat\\r\\n111,cat_128.wav,cat\\r\\n112,cat_140.wav,cat\\r\\n113,cat_107.wav,cat\\r\\n114,cat_151.wav,cat\\r\\n,cat_68.wav,cat\\r\\n,cat_30.wav,cat\\r\\n,cat_135.wav,cat\\r\\n,cat_27.wav,cat\\r\\n,cat_16.wav,cat\\r\\n,cat_40.wav,cat\\r\\n,cat_152.wav,cat\\r\\n,cat_147.wav,cat\\r\\n,cat_162.wav,cat\\r\\n,cat_78.wav,cat\\r\\n,cat_23.wav,cat\\r\\n,cat_164.wav,cat\\r\\n,cat_129.wav,cat\\r\\n,cat_110.wav,cat\\r\\n,cat_14.wav,cat\\r\\n,cat_26.wav,cat\\r\\n,cat_75.wav,cat\\r\\n,cat_143.wav,cat\\r\\n,cat_17.wav,cat\\r\\n,cat_142.wav,cat\\r\\n,cat_121.wav,cat\\r\\n,cat_100.wav,cat\\r\\n,cat_137.wav,cat\\r\\n,cat_85.wav,cat\\r\\n,cat_93.wav,cat\\r\\n,cat_19.wav,cat\\r\\n,cat_146.wav,cat\\r\\n,cat_71.wav,cat\\r\\n,cat_82.wav,cat\\r\\n,cat_11.wav,cat\\r\\n,cat_148.wav,cat\\r\\n,cat_133.wav,cat\\r\\n,cat_36.wav,cat\\r\\n,cat_131.wav,cat\\r\\n,cat_161.wav,cat\\r\\n,cat_157.wav,cat\\r\\n,cat_109.wav,cat\\r\\n,cat_72.wav,cat\\r\\n,cat_163.wav,cat\\r\\n,cat_39.wav,cat\\r\\n,cat_108.wav,cat\\r\\n,cat_28.wav,cat\\r\\n,cat_153.wav,cat\\r\\n,cat_18.wav,cat\\r\\n,cat_98.wav,cat\\r\\n,cat_35.wav,cat\\r\\n,cat_41.wav,cat\\r\\n,cat_95.wav,cat\\r\\n,cat_126.wav,cat\\r\\n,cat_81.wav,cat\\r\\n,cat_69.wav,cat\\r\\n,cat_48.wav,cat\\r\\n,cat_33.wav,cat\\r\\n,cat_37.wav,cat\\r\\n,cat_80.wav,cat\\r\\n,cat_57.wav,cat\\r\\n,cat_158.wav,cat\\r\\n,cat_1.wav,cat\\r\\n,cat_7.wav,cat\\r\\n,cat_127.wav,cat\\r\\n,cat_10.wav,cat\\r\\n,cat_25.wav,cat\\r\\n,cat_114.wav,cat\\r\\n,cat_64.wav,cat\\r\\n,cat_4.wav,cat\\r\\n,cat_97.wav,cat\\r\\n,cat_167.wav,cat\\r\\n,cat_91.wav,cat\\r\\n,cat_79.wav,cat\\r\\n,cat_102.wav,cat\\r\\n,cat_3.wav,cat\\r\\n,cat_115.wav,cat\\r\\n,cat_43.wav,cat\\r\\n,cat_105.wav,cat\\r\\n,cat_123.wav,cat\\r\\n,cat_31.wav,cat\\r\\n,cat_118.wav,cat\\r\\n,cat_6.wav,cat\\r\\n,cat_42.wav,cat\\r\\n,cat_122.wav,cat\\r\\n,cat_87.wav,cat\\r\\n,cat_154.wav,cat\\r\\n,cat_139.wav,cat\\r\\n,cat_51.wav,cat\\r\\n,cat_96.wav,cat\\r\\n,cat_156.wav,cat\\r\\n,cat_84.wav,cat\\r\\n,cat_61.wav,cat\\r\\n,cat_62.wav,cat\\r\\n,cat_44.wav,cat\\r\\n,cat_165.wav,cat\\r\\n,cat_159.wav,cat\\r\\n,cat_92.wav,cat\\r\\n,cat_15.wav,cat\\r\\n,cat_88.wav,cat\\r\\n,cat_73.wav,cat\\r\\n,cat_32.wav,cat\\r\\n,cat_113.wav,cat\\r\\n,dog_barking_33.wav,dog\\r\\n,dog_barking_86.wav,dog\\r\\n,dog_barking_45.wav,dog\\r\\n,dog_barking_76.wav,dog\\r\\n,dog_barking_4.wav,dog\\r\\n,dog_barking_6.wav,dog\\r\\n,dog_barking_55.wav,dog\\r\\n,dog_barking_58.wav,dog\\r\\n,dog_barking_95.wav,dog\\r\\n,dog_barking_74.wav,dog\\r\\n,dog_barking_72.wav,dog\\r\\n,dog_barking_20.wav,dog\\r\\n,dog_barking_99.wav,dog\\r\\n,dog_barking_37.wav,dog\\r\\n,dog_barking_89.wav,dog\\r\\n,dog_barking_105.wav,dog\\r\\n,dog_barking_53.wav,dog\\r\\n,dog_barking_2.wav,dog\\r\\n,dog_barking_7.wav,dog\\r\\n,dog_barking_80.wav,dog\\r\\n,dog_barking_75.wav,dog\\r\\n,dog_barking_59.wav,dog\\r\\n,dog_barking_25.wav,dog\\r\\n,dog_barking_68.wav,dog\\r\\n,dog_barking_90.wav,dog\\r\\n,dog_barking_84.wav,dog\\r\\n,dog_barking_102.wav,dog\\r\\n,dog_barking_29.wav,dog\\r\\n,dog_barking_27.wav,dog\\r\\n,dog_barking_91.wav,dog\\r\\n,dog_barking_17.wav,dog\\r\\n,dog_barking_13.wav,dog\\r\\n,dog_barking_85.wav,dog\\r\\n,dog_barking_79.wav,dog\\r\\n,dog_barking_24.wav,dog\\r\\n,dog_barking_66.wav,dog\\r\\n,dog_barking_110.wav,dog\\r\\n,dog_barking_88.wav,dog\\r\\n,dog_barking_22.wav,dog\\r\\n,dog_barking_50.wav,dog\\r\\n,dog_barking_101.wav,dog\\r\\n,dog_barking_54.wav,dog\\r\\n,dog_barking_98.wav,dog\\r\\n,dog_barking_36.wav,dog\\r\\n,dog_barking_23.wav,dog\\r\\n,dog_barking_16.wav,dog\\r\\n,dog_barking_107.wav,dog\\r\\n,dog_barking_46.wav,dog\\r\\n,dog_barking_30.wav,dog\\r\\n,dog_barking_14.wav,dog\\r\\n,dog_barking_62.wav,dog\\r\\n,dog_barking_83.wav,dog\\r\\n,dog_barking_31.wav,dog\\r\\n,dog_barking_56.wav,dog\\r\\n,dog_barking_87.wav,dog\\r\\n,dog_barking_12.wav,dog\\r\\n,dog_barking_19.wav,dog\\r\\n,dog_barking_49.wav,dog\\r\\n,dog_barking_81.wav,dog\\r\\n,dog_barking_9.wav,dog\\r\\n,dog_barking_111.wav,dog\\r\\n,dog_barking_67.wav,dog\\r\\n,dog_barking_108.wav,dog\\r\\n,dog_barking_41.wav,dog\\r\\n'}"
            ]
          },
          "metadata": {
            "tags": []
          },
          "execution_count": 6
        }
      ]
    },
    {
      "cell_type": "markdown",
      "metadata": {
        "id": "VN6FO6-IWwN2"
      },
      "source": [
        "Opening the metadata file (For this particular model, the csv file must contain a filename and category (aka label) column."
      ]
    },
    {
      "cell_type": "code",
      "metadata": {
        "scrolled": true,
        "id": "pctxvTpJWwN2",
        "colab": {
          "base_uri": "https://localhost:8080/",
          "height": 194
        },
        "outputId": "2eba8dce-319c-4295-c70f-8132c47da506"
      },
      "source": [
        "df = pd.read_csv('/content/train_test_split#1.csv')\n",
        "df.head()\n"
      ],
      "execution_count": null,
      "outputs": [
        {
          "output_type": "execute_result",
          "data": {
            "text/html": [
              "<div>\n",
              "<style scoped>\n",
              "    .dataframe tbody tr th:only-of-type {\n",
              "        vertical-align: middle;\n",
              "    }\n",
              "\n",
              "    .dataframe tbody tr th {\n",
              "        vertical-align: top;\n",
              "    }\n",
              "\n",
              "    .dataframe thead th {\n",
              "        text-align: right;\n",
              "    }\n",
              "</style>\n",
              "<table border=\"1\" class=\"dataframe\">\n",
              "  <thead>\n",
              "    <tr style=\"text-align: right;\">\n",
              "      <th></th>\n",
              "      <th>Unnamed: 0</th>\n",
              "      <th>filename</th>\n",
              "      <th>category</th>\n",
              "    </tr>\n",
              "  </thead>\n",
              "  <tbody>\n",
              "    <tr>\n",
              "      <th>0</th>\n",
              "      <td>0.0</td>\n",
              "      <td>cat_22.wav</td>\n",
              "      <td>cat</td>\n",
              "    </tr>\n",
              "    <tr>\n",
              "      <th>1</th>\n",
              "      <td>1.0</td>\n",
              "      <td>cat_116.wav</td>\n",
              "      <td>cat</td>\n",
              "    </tr>\n",
              "    <tr>\n",
              "      <th>2</th>\n",
              "      <td>2.0</td>\n",
              "      <td>cat_155.wav</td>\n",
              "      <td>cat</td>\n",
              "    </tr>\n",
              "    <tr>\n",
              "      <th>3</th>\n",
              "      <td>3.0</td>\n",
              "      <td>cat_58.wav</td>\n",
              "      <td>cat</td>\n",
              "    </tr>\n",
              "    <tr>\n",
              "      <th>4</th>\n",
              "      <td>4.0</td>\n",
              "      <td>cat_77.wav</td>\n",
              "      <td>cat</td>\n",
              "    </tr>\n",
              "  </tbody>\n",
              "</table>\n",
              "</div>"
            ],
            "text/plain": [
              "   Unnamed: 0     filename category\n",
              "0         0.0   cat_22.wav      cat\n",
              "1         1.0  cat_116.wav      cat\n",
              "2         2.0  cat_155.wav      cat\n",
              "3         3.0   cat_58.wav      cat\n",
              "4         4.0   cat_77.wav      cat"
            ]
          },
          "metadata": {
            "tags": []
          },
          "execution_count": 7
        }
      ]
    },
    {
      "cell_type": "markdown",
      "metadata": {
        "id": "RfGRZf-sWwN2"
      },
      "source": [
        "## Datablock and Dataloader preparation"
      ]
    },
    {
      "cell_type": "markdown",
      "metadata": {
        "id": "R1FVquDiWwN2"
      },
      "source": [
        "Creating the Audio to Spectrogram transform from a predefined config & resize the samples to the same length."
      ]
    },
    {
      "cell_type": "code",
      "metadata": {
        "id": "GtEMxNTiWwN3",
        "colab": {
          "base_uri": "https://localhost:8080/"
        },
        "outputId": "d835f4b9-d61b-44e4-8a3d-52104be51716"
      },
      "source": [
        "cfg = AudioConfig.BasicMelSpectrogram(n_fft=512)\n",
        "a2s = AudioToSpec.from_cfg(cfg)\n",
        "item_tfms = [ResizeSignal(1000),a2s]"
      ],
      "execution_count": null,
      "outputs": [
        {
          "output_type": "stream",
          "text": [
            "/usr/local/lib/python3.6/dist-packages/torchaudio/functional.py:318: UserWarning: At least one mel filterbank has all zero values. The value for `n_mels` (128) may be set too high. Or, the value for `n_freqs` (257) may be set too low.\n",
            "  \"At least one mel filterbank has all zero values. \"\n"
          ],
          "name": "stderr"
        }
      ]
    },
    {
      "cell_type": "markdown",
      "metadata": {
        "id": "JH0_UARsWwN3"
      },
      "source": [
        "Creating the Datablock"
      ]
    },
    {
      "cell_type": "code",
      "metadata": {
        "id": "x9Wd2nweWwN3"
      },
      "source": [
        "auds = DataBlock(blocks = (AudioBlock, CategoryBlock), \n",
        "                 get_x = ColReader(\"filename\", pref='/content/audio/cats_dogs/'), \n",
        "                 splitter = TrainTestSplitter(test_size=0.2, random_state=42, stratify=None, train_size=0.4, shuffle=True),\n",
        "                 item_tfms = item_tfms,\n",
        "                 get_y = ColReader('category'))"
      ],
      "execution_count": null,
      "outputs": []
    },
    {
      "cell_type": "code",
      "metadata": {
        "id": "TzHHjeBYWwN3",
        "colab": {
          "base_uri": "https://localhost:8080/"
        },
        "outputId": "1071af10-9396-4790-e4af-0f23ef5f3a93"
      },
      "source": [
        "dbunch = auds.dataloaders(df, bs=64)"
      ],
      "execution_count": null,
      "outputs": [
        {
          "output_type": "stream",
          "text": [
            "/usr/local/lib/python3.6/dist-packages/torch/functional.py:516: UserWarning: stft will require the return_complex parameter be explicitly  specified in a future PyTorch release. Use return_complex=False  to preserve the current behavior or return_complex=True to return  a complex output. (Triggered internally at  /pytorch/aten/src/ATen/native/SpectralOps.cpp:653.)\n",
            "  normalized, onesided, return_complex)\n",
            "/usr/local/lib/python3.6/dist-packages/torch/functional.py:516: UserWarning: The function torch.rfft is deprecated and will be removed in a future PyTorch release. Use the new torch.fft module functions, instead, by importing torch.fft and calling torch.fft.fft or torch.fft.rfft. (Triggered internally at  /pytorch/aten/src/ATen/native/SpectralOps.cpp:590.)\n",
            "  normalized, onesided, return_complex)\n"
          ],
          "name": "stderr"
        }
      ]
    },
    {
      "cell_type": "markdown",
      "metadata": {
        "id": "NLkk_goVWwN3"
      },
      "source": [
        "Visualizing one batch of data. Notice that the title of each Spectrogram is the corresponding label."
      ]
    },
    {
      "cell_type": "code",
      "metadata": {
        "scrolled": false,
        "id": "XXEwsFHGWwN3",
        "colab": {
          "base_uri": "https://localhost:8080/",
          "height": 332
        },
        "outputId": "e5c40212-24d4-448b-ad56-270a67d993cb"
      },
      "source": [
        "dbunch.show_batch(figsize=(10, 5))"
      ],
      "execution_count": null,
      "outputs": [
        {
          "output_type": "display_data",
          "data": {
            "image/png": "[encoded data removed]",
            "text/plain": [
              "<Figure size 720x360 with 4 Axes>"
            ]
          },
          "metadata": {
            "tags": [],
            "needs_background": "light"
          }
        }
      ]
    },
    {
      "cell_type": "markdown",
      "metadata": {
        "id": "rCyOQ1NoWwN4"
      },
      "source": [
        "## Learner and Training"
      ]
    },
    {
      "cell_type": "markdown",
      "metadata": {
        "id": "mzR8VN4YWwN4"
      },
      "source": [
        "While creating the learner, we need to indicate that our input spectrograms only have one channel. Besides that, it's the usual vision learner."
      ]
    },
    {
      "cell_type": "code",
      "metadata": {
        "id": "TacIBUpEWwN4",
        "colab": {
          "base_uri": "https://localhost:8080/",
          "height": 84,
          "referenced_widgets": [
            "51b099c7f35c4913a4e087c150a3d30e",
            "7278f2b6cad341478fe28d2e3194e1d3",
            "7f420b06562847e0a2ca71d643251d3e",
            "95f2c283a1df486389439b735e62b472",
            "fdbdd80b139d46cf88e37e8a7a8bc87d",
            "8018833900534779b2e071dce06cfb7b",
            "27ba94626340479da942a4886942932e",
            "7ca3ae2dd08f42818173db4694ba471d"
          ]
        },
        "outputId": "28a11fa2-2ff2-4a88-9766-e11262722301"
      },
      "source": [
        "learn = cnn_learner(dbunch, \n",
        "            resnet18,\n",
        "            n_in=1,  # <- This is the only audio specific modification here\n",
        "            loss_func=CrossEntropyLossFlat(),\n",
        "            metrics=[accuracy])"
      ],
      "execution_count": null,
      "outputs": [
        {
          "output_type": "stream",
          "text": [
            "Downloading: \"https://download.pytorch.org/models/resnet18-5c106cde.pth\" to /root/.cache/torch/hub/checkpoints/resnet18-5c106cde.pth\n"
          ],
          "name": "stderr"
        },
        {
          "output_type": "display_data",
          "data": {
            "application/vnd.jupyter.widget-view+json": {
              "model_id": "51b099c7f35c4913a4e087c150a3d30e",
              "version_minor": 0,
              "version_major": 2
            },
            "text/plain": [
              "HBox(children=(FloatProgress(value=0.0, max=46827520.0), HTML(value='')))"
            ]
          },
          "metadata": {
            "tags": []
          }
        },
        {
          "output_type": "stream",
          "text": [
            "\n"
          ],
          "name": "stdout"
        }
      ]
    },
    {
      "cell_type": "code",
      "metadata": {
        "id": "4J3yaWL5WwN4",
        "colab": {
          "base_uri": "https://localhost:8080/",
          "height": 400
        },
        "outputId": "cb453760-9a8d-429f-e7ee-de53f746b520"
      },
      "source": [
        "@skip_if_ci\n",
        "def run_learner():\n",
        "    # epochs are a bit longer due to the chosen melspectrogram settings\n",
        "    learn.fine_tune(10)\n",
        "\n",
        "# We only validate the model when running in CI\n",
        "run_learner()"
      ],
      "execution_count": null,
      "outputs": [
        {
          "output_type": "display_data",
          "data": {
            "text/html": [
              "<table border=\"1\" class=\"dataframe\">\n",
              "  <thead>\n",
              "    <tr style=\"text-align: left;\">\n",
              "      <th>epoch</th>\n",
              "      <th>train_loss</th>\n",
              "      <th>valid_loss</th>\n",
              "      <th>accuracy</th>\n",
              "      <th>time</th>\n",
              "    </tr>\n",
              "  </thead>\n",
              "  <tbody>\n",
              "    <tr>\n",
              "      <td>0</td>\n",
              "      <td>0.871129</td>\n",
              "      <td>0.762726</td>\n",
              "      <td>0.642857</td>\n",
              "      <td>00:01</td>\n",
              "    </tr>\n",
              "  </tbody>\n",
              "</table>"
            ],
            "text/plain": [
              "<IPython.core.display.HTML object>"
            ]
          },
          "metadata": {
            "tags": []
          }
        },
        {
          "output_type": "display_data",
          "data": {
            "text/html": [
              "<table border=\"1\" class=\"dataframe\">\n",
              "  <thead>\n",
              "    <tr style=\"text-align: left;\">\n",
              "      <th>epoch</th>\n",
              "      <th>train_loss</th>\n",
              "      <th>valid_loss</th>\n",
              "      <th>accuracy</th>\n",
              "      <th>time</th>\n",
              "    </tr>\n",
              "  </thead>\n",
              "  <tbody>\n",
              "    <tr>\n",
              "      <td>0</td>\n",
              "      <td>1.147979</td>\n",
              "      <td>0.961481</td>\n",
              "      <td>0.678571</td>\n",
              "      <td>00:01</td>\n",
              "    </tr>\n",
              "    <tr>\n",
              "      <td>1</td>\n",
              "      <td>1.130270</td>\n",
              "      <td>0.874225</td>\n",
              "      <td>0.625000</td>\n",
              "      <td>00:01</td>\n",
              "    </tr>\n",
              "    <tr>\n",
              "      <td>2</td>\n",
              "      <td>1.116069</td>\n",
              "      <td>0.889959</td>\n",
              "      <td>0.625000</td>\n",
              "      <td>00:01</td>\n",
              "    </tr>\n",
              "    <tr>\n",
              "      <td>3</td>\n",
              "      <td>1.057462</td>\n",
              "      <td>0.666720</td>\n",
              "      <td>0.696429</td>\n",
              "      <td>00:01</td>\n",
              "    </tr>\n",
              "    <tr>\n",
              "      <td>4</td>\n",
              "      <td>0.981334</td>\n",
              "      <td>0.574900</td>\n",
              "      <td>0.696429</td>\n",
              "      <td>00:01</td>\n",
              "    </tr>\n",
              "    <tr>\n",
              "      <td>5</td>\n",
              "      <td>0.942783</td>\n",
              "      <td>0.554376</td>\n",
              "      <td>0.750000</td>\n",
              "      <td>00:01</td>\n",
              "    </tr>\n",
              "    <tr>\n",
              "      <td>6</td>\n",
              "      <td>0.876916</td>\n",
              "      <td>0.357714</td>\n",
              "      <td>0.875000</td>\n",
              "      <td>00:01</td>\n",
              "    </tr>\n",
              "    <tr>\n",
              "      <td>7</td>\n",
              "      <td>0.823665</td>\n",
              "      <td>0.648525</td>\n",
              "      <td>0.678571</td>\n",
              "      <td>00:01</td>\n",
              "    </tr>\n",
              "    <tr>\n",
              "      <td>8</td>\n",
              "      <td>0.795140</td>\n",
              "      <td>0.393703</td>\n",
              "      <td>0.803571</td>\n",
              "      <td>00:01</td>\n",
              "    </tr>\n",
              "    <tr>\n",
              "      <td>9</td>\n",
              "      <td>0.766407</td>\n",
              "      <td>0.381204</td>\n",
              "      <td>0.803571</td>\n",
              "      <td>00:01</td>\n",
              "    </tr>\n",
              "  </tbody>\n",
              "</table>"
            ],
            "text/plain": [
              "<IPython.core.display.HTML object>"
            ]
          },
          "metadata": {
            "tags": []
          }
        }
      ]
    },
    {
      "cell_type": "code",
      "metadata": {
        "id": "alh6ROxNZdXe",
        "colab": {
          "base_uri": "https://localhost:8080/",
          "height": 294
        },
        "outputId": "6dbb1215-a599-40f9-f9a3-b0292c025601"
      },
      "source": [
        "lr_min, lr_steep = learn.lr_find()"
      ],
      "execution_count": null,
      "outputs": [
        {
          "output_type": "display_data",
          "data": {
            "text/html": [
              ""
            ],
            "text/plain": [
              "<IPython.core.display.HTML object>"
            ]
          },
          "metadata": {
            "tags": []
          }
        },
        {
          "output_type": "display_data",
          "data": {
            "image/png": "[encoded data removed]",
            "text/plain": [
              "<Figure size 432x288 with 1 Axes>"
            ]
          },
          "metadata": {
            "tags": [],
            "needs_background": "light"
          }
        }
      ]
    },
    {
      "cell_type": "code",
      "metadata": {
        "id": "vtS-n0LlZytK",
        "colab": {
          "base_uri": "https://localhost:8080/",
          "height": 136
        },
        "outputId": "0aa7df0f-d84e-41f1-ceba-3156aa3bf2d2"
      },
      "source": [
        "learn.fine_tune(1, base_lr = 5e-3)"
      ],
      "execution_count": null,
      "outputs": [
        {
          "output_type": "display_data",
          "data": {
            "text/html": [
              "<table border=\"1\" class=\"dataframe\">\n",
              "  <thead>\n",
              "    <tr style=\"text-align: left;\">\n",
              "      <th>epoch</th>\n",
              "      <th>train_loss</th>\n",
              "      <th>valid_loss</th>\n",
              "      <th>accuracy</th>\n",
              "      <th>time</th>\n",
              "    </tr>\n",
              "  </thead>\n",
              "  <tbody>\n",
              "    <tr>\n",
              "      <td>0</td>\n",
              "      <td>0.141310</td>\n",
              "      <td>0.326403</td>\n",
              "      <td>0.892857</td>\n",
              "      <td>00:01</td>\n",
              "    </tr>\n",
              "  </tbody>\n",
              "</table>"
            ],
            "text/plain": [
              "<IPython.core.display.HTML object>"
            ]
          },
          "metadata": {
            "tags": []
          }
        },
        {
          "output_type": "display_data",
          "data": {
            "text/html": [
              "<table border=\"1\" class=\"dataframe\">\n",
              "  <thead>\n",
              "    <tr style=\"text-align: left;\">\n",
              "      <th>epoch</th>\n",
              "      <th>train_loss</th>\n",
              "      <th>valid_loss</th>\n",
              "      <th>accuracy</th>\n",
              "      <th>time</th>\n",
              "    </tr>\n",
              "  </thead>\n",
              "  <tbody>\n",
              "    <tr>\n",
              "      <td>0</td>\n",
              "      <td>0.081663</td>\n",
              "      <td>0.274302</td>\n",
              "      <td>0.928571</td>\n",
              "      <td>00:01</td>\n",
              "    </tr>\n",
              "  </tbody>\n",
              "</table>"
            ],
            "text/plain": [
              "<IPython.core.display.HTML object>"
            ]
          },
          "metadata": {
            "tags": []
          }
        }
      ]
    },
    {
      "cell_type": "code",
      "metadata": {
        "id": "01Rk3aLlAQJZ"
      },
      "source": [
        "learn.export()"
      ],
      "execution_count": null,
      "outputs": []
    }
  ]
}